{
 "cells": [
  {
   "cell_type": "code",
   "execution_count": 5,
   "metadata": {},
   "outputs": [
    {
     "data": {
      "text/html": [
       "\n",
       "<style>\n",
       "\n",
       "div.cell { /* Tunes the space between cells */\n",
       "margin-top:1em;\n",
       "margin-bottom:1em;\n",
       "}\n",
       "\n",
       "div.text_cell_render h1 { /* Main titles bigger, centered */\n",
       "font-size: 2.2em;\n",
       "line-height:1.4em;\n",
       "text-align:center;\n",
       "}\n",
       "\n",
       "div.text_cell_render h2 { /*  Parts names nearer from text */\n",
       "margin-bottom: -0.4em;\n",
       "}\n",
       "\n",
       "\n",
       "div.text_cell_render { /* Customize text cells */\n",
       "font-family: 'Times New Roman';\n",
       "font-size:1.5em;\n",
       "line-height:1.4em;\n",
       "padding-left:3em;\n",
       "padding-right:3em;\n",
       "}\n",
       "</style>\n"
      ],
      "text/plain": [
       "<IPython.core.display.HTML object>"
      ]
     },
     "execution_count": 5,
     "metadata": {},
     "output_type": "execute_result"
    }
   ],
   "source": [
    "from IPython.core.display import HTML\n",
    "HTML(\"\"\"\n",
    "<style>\n",
    "\n",
    "div.cell { /* Tunes the space between cells */\n",
    "margin-top:1em;\n",
    "margin-bottom:1em;\n",
    "}\n",
    "\n",
    "div.text_cell_render h1 { /* Main titles bigger, centered */\n",
    "font-size: 2.2em;\n",
    "line-height:1.4em;\n",
    "text-align:center;\n",
    "}\n",
    "\n",
    "div.text_cell_render h2 { /*  Parts names nearer from text */\n",
    "margin-bottom: -0.4em;\n",
    "}\n",
    "\n",
    "\n",
    "div.text_cell_render { /* Customize text cells */\n",
    "font-family: 'Times New Roman';\n",
    "font-size:1.5em;\n",
    "line-height:1.4em;\n",
    "padding-left:3em;\n",
    "padding-right:3em;\n",
    "}\n",
    "</style>\n",
    "\"\"\")"
   ]
  },
  {
   "cell_type": "markdown",
   "metadata": {},
   "source": [
    "# Упражнения"
   ]
  },
  {
   "cell_type": "markdown",
   "metadata": {},
   "source": [
    "### NUMPY"
   ]
  },
  {
   "cell_type": "markdown",
   "metadata": {},
   "source": [
    "<img src='../../../img/trainings1.jpg'/>"
   ]
  },
  {
   "cell_type": "markdown",
   "metadata": {},
   "source": [
    "1) Импортировать `NumPy` под именем `np`"
   ]
  },
  {
   "cell_type": "code",
   "execution_count": 2,
   "metadata": {},
   "outputs": [],
   "source": [
    "import numpy as np"
   ]
  },
  {
   "cell_type": "markdown",
   "metadata": {},
   "source": [
    "2) Напечатать версию и конфигурацию "
   ]
  },
  {
   "cell_type": "code",
   "execution_count": 11,
   "metadata": {
    "scrolled": true
   },
   "outputs": [
    {
     "name": "stdout",
     "output_type": "stream",
     "text": [
      "1.14.5\n"
     ]
    }
   ],
   "source": [
    "print(np.__version__)"
   ]
  },
  {
   "cell_type": "markdown",
   "metadata": {},
   "source": [
    "3) Создайте нулевой вектор размером 10"
   ]
  },
  {
   "cell_type": "code",
   "execution_count": 12,
   "metadata": {},
   "outputs": [
    {
     "name": "stdout",
     "output_type": "stream",
     "text": [
      "[0. 0. 0. 0. 0. 0. 0. 0. 0. 0.]\n"
     ]
    }
   ],
   "source": [
    "zeros = np.zeros(10)\n",
    "print(zeros)"
   ]
  },
  {
   "cell_type": "markdown",
   "metadata": {},
   "source": [
    "4) Создать вектор размера 10, заполненный единицами"
   ]
  },
  {
   "cell_type": "code",
   "execution_count": 7,
   "metadata": {},
   "outputs": [
    {
     "name": "stdout",
     "output_type": "stream",
     "text": [
      "[1. 1. 1. 1. 1. 1. 1. 1. 1. 1.]\n"
     ]
    }
   ],
   "source": [
    "ones = np.ones(10)\n",
    "print(ones)"
   ]
  },
  {
   "cell_type": "markdown",
   "metadata": {},
   "source": [
    "5) Создать вектор размера 10, заполненный нулями, но пятый элемент равен 1"
   ]
  },
  {
   "cell_type": "code",
   "execution_count": 15,
   "metadata": {},
   "outputs": [
    {
     "name": "stdout",
     "output_type": "stream",
     "text": [
      "[0. 0. 0. 0. 1. 0. 0. 0. 0. 0.]\n"
     ]
    }
   ],
   "source": [
    "allButOne = np.copy(zeros)\n",
    "allButOne[4] = 1\n",
    "print(allButOne)"
   ]
  },
  {
   "cell_type": "markdown",
   "metadata": {},
   "source": [
    "6) Создать вектор со значениями от 10 до 49"
   ]
  },
  {
   "cell_type": "code",
   "execution_count": 18,
   "metadata": {},
   "outputs": [
    {
     "name": "stdout",
     "output_type": "stream",
     "text": [
      "[10 11 12 13 14 15 16 17 18 19 20 21 22 23 24 25 26 27 28 29 30 31 32 33\n",
      " 34 35 36 37 38 39 40 41 42 43 44 45 46 47 48 49]\n"
     ]
    }
   ],
   "source": [
    "from10To49 = np.arange(10, 50)\n",
    "print(from10To49)"
   ]
  },
  {
   "cell_type": "markdown",
   "metadata": {},
   "source": [
    "7) Создать и потом развернуть вектор (так, чтобы первый элемент стал последним)"
   ]
  },
  {
   "cell_type": "code",
   "execution_count": 20,
   "metadata": {},
   "outputs": [
    {
     "name": "stdout",
     "output_type": "stream",
     "text": [
      "[10 11 12 13 14 15 16 17 18 19 20 21 22 23 24 25 26 27 28 29 30 31 32 33\n",
      " 34 35 36 37 38 39 40 41 42 43 44 45 46 47 48 49]\n",
      "[11 12 13 14 15 16 17 18 19 20 21 22 23 24 25 26 27 28 29 30 31 32 33 34\n",
      " 35 36 37 38 39 40 41 42 43 44 45 46 47 48 49 10]\n"
     ]
    }
   ],
   "source": [
    "from10To49ButRolled = np.roll(from10To49, -1)\n",
    "print(from10To49ButRolled)"
   ]
  },
  {
   "cell_type": "markdown",
   "metadata": {},
   "source": [
    "8) Создать матрицу (двумерный массив) 3x3 со значениями от 0 до 8"
   ]
  },
  {
   "cell_type": "code",
   "execution_count": 21,
   "metadata": {},
   "outputs": [
    {
     "name": "stdout",
     "output_type": "stream",
     "text": [
      "[[0 1 2]\n",
      " [3 4 5]\n",
      " [6 7 8]]\n"
     ]
    }
   ],
   "source": [
    "from0To8Matrix = np.arange(0, 9).reshape(3, 3)\n",
    "print(from0To8Matrix)"
   ]
  },
  {
   "cell_type": "markdown",
   "metadata": {},
   "source": [
    "9) Создать 3x3 единичную матрицу"
   ]
  },
  {
   "cell_type": "code",
   "execution_count": 23,
   "metadata": {},
   "outputs": [
    {
     "name": "stdout",
     "output_type": "stream",
     "text": [
      "[[1. 1. 1.]\n",
      " [1. 1. 1.]\n",
      " [1. 1. 1.]]\n"
     ]
    }
   ],
   "source": [
    "oneMatrix = np.ones((3, 3))\n",
    "print(oneMatrix)"
   ]
  },
  {
   "cell_type": "markdown",
   "metadata": {},
   "source": [
    "10) Создать массив 3x3x3 со случайными значениями"
   ]
  },
  {
   "cell_type": "code",
   "execution_count": 26,
   "metadata": {},
   "outputs": [
    {
     "name": "stdout",
     "output_type": "stream",
     "text": [
      "[[[0.47313396 0.48410427 0.03829534]\n",
      "  [0.71820359 0.36168432 0.30706762]\n",
      "  [0.08597651 0.62332884 0.39091357]]\n",
      "\n",
      " [[0.50250936 0.7046204  0.11898371]\n",
      "  [0.25741899 0.87326133 0.70395362]\n",
      "  [0.76665677 0.37986836 0.09700654]]\n",
      "\n",
      " [[0.18042573 0.23765262 0.54884467]\n",
      "  [0.42351062 0.28812954 0.16726104]\n",
      "  [0.740726   0.28266499 0.996904  ]]]\n"
     ]
    }
   ],
   "source": [
    "randomMatrix = np.random.rand(3, 3, 3)\n",
    "print(randomMatrix)"
   ]
  },
  {
   "cell_type": "markdown",
   "metadata": {},
   "source": [
    "11) Создать массив 10x10 со случайными значениями, найти минимум и максимум"
   ]
  },
  {
   "cell_type": "code",
   "execution_count": 39,
   "metadata": {},
   "outputs": [
    {
     "name": "stdout",
     "output_type": "stream",
     "text": [
      "[[0.60233352 0.17432919 0.19427645 0.03294628 0.74738996 0.33321925\n",
      "  0.53556256 0.96732452 0.89042194 0.78159168]\n",
      " [0.35608046 0.44711024 0.73082731 0.8427094  0.9844165  0.71600386\n",
      "  0.05733001 0.24354535 0.37481111 0.69986598]\n",
      " [0.72942191 0.54607603 0.31942912 0.8190009  0.80261653 0.60174135\n",
      "  0.92458281 0.77966404 0.60546147 0.09725131]\n",
      " [0.94123049 0.65717967 0.23874984 0.67668674 0.96986644 0.7053851\n",
      "  0.40015249 0.99965878 0.18150032 0.88256964]\n",
      " [0.89343863 0.76664202 0.53673695 0.87708895 0.33032518 0.71695324\n",
      "  0.56874677 0.34162209 0.33463536 0.52258988]\n",
      " [0.38808782 0.09705763 0.46976722 0.98048671 0.0442199  0.38884356\n",
      "  0.9852801  0.38181128 0.39211835 0.08573447]\n",
      " [0.48078096 0.1543853  0.94417455 0.11003308 0.11676546 0.35889785\n",
      "  0.55793401 0.10690446 0.23673144 0.31858307]\n",
      " [0.11240454 0.053138   0.37125829 0.99049832 0.52701056 0.88307796\n",
      "  0.9880145  0.80202368 0.28273833 0.80105897]\n",
      " [0.54841668 0.26156762 0.72754268 0.55024226 0.92320418 0.72160698\n",
      "  0.99115037 0.21207289 0.43801721 0.14248942]\n",
      " [0.20965492 0.76769347 0.11237623 0.63841638 0.04654269 0.11127546\n",
      "  0.39806835 0.80262389 0.73030134 0.38633158]]\n",
      "0.03294628037404679\n",
      "0.999658782670655\n"
     ]
    }
   ],
   "source": [
    "randomMatrix2 = np.random.random((10, 10))\n",
    "print(randomMatrix2)\n",
    "minValue = np.min(randomMatrix2)\n",
    "print(minValue)\n",
    "minValue = np.max(randomMatrix2)\n",
    "print(minValue)"
   ]
  },
  {
   "cell_type": "markdown",
   "metadata": {},
   "source": [
    "12) Создать случайный вектор размера 30 и найти среднее значение всех элементов"
   ]
  },
  {
   "cell_type": "code",
   "execution_count": 38,
   "metadata": {},
   "outputs": [
    {
     "name": "stdout",
     "output_type": "stream",
     "text": [
      "[0.27751485 0.15875519 0.981433   0.18939881 0.28901312 0.05859866\n",
      " 0.06444363 0.92980116 0.29327717 0.35979872 0.11460402 0.27562062\n",
      " 0.61719068 0.95175807 0.10761909 0.68318049 0.93006    0.82073862\n",
      " 0.49809518 0.75484129 0.18707459 0.27474416 0.96479545 0.76211929\n",
      " 0.75451974 0.84776096 0.74157608 0.99095973 0.9131221  0.46670975]\n",
      "0.5419708065653874\n"
     ]
    }
   ],
   "source": [
    "randomVector = np.random.rand(30)\n",
    "print(randomVector)\n",
    "meanValue = np.mean(randomVector)\n",
    "print(meanValue)"
   ]
  },
  {
   "cell_type": "markdown",
   "metadata": {},
   "source": [
    "13) Создать матрицу с 0 внутри, и 1 на границах"
   ]
  },
  {
   "cell_type": "code",
   "execution_count": 42,
   "metadata": {},
   "outputs": [
    {
     "name": "stdout",
     "output_type": "stream",
     "text": [
      "[[1. 1. 1. 1. 1. 1.]\n",
      " [1. 0. 0. 0. 0. 1.]\n",
      " [1. 0. 0. 0. 0. 1.]\n",
      " [1. 0. 0. 0. 0. 1.]\n",
      " [1. 0. 0. 0. 0. 1.]\n",
      " [1. 1. 1. 1. 1. 1.]]\n"
     ]
    }
   ],
   "source": [
    "zeroOneMatrix = np.zeros((6, 6))\n",
    "zeroOneMatrix[0, :] = np.ones(6)\n",
    "zeroOneMatrix[5, :] = np.ones(6)\n",
    "zeroOneMatrix[:, 0] = np.ones(6)\n",
    "zeroOneMatrix[:, 5] = np.ones(6)\n",
    "print(zeroOneMatrix)"
   ]
  },
  {
   "cell_type": "markdown",
   "metadata": {},
   "source": [
    "14) Создать 8x8 матрицу и заполнить её в шахматном порядке, не используя функцию tile"
   ]
  },
  {
   "cell_type": "code",
   "execution_count": 45,
   "metadata": {},
   "outputs": [
    {
     "name": "stdout",
     "output_type": "stream",
     "text": [
      "[[0 1 0 1 0 1 0 1]\n",
      " [1 0 1 0 1 0 1 0]\n",
      " [0 1 0 1 0 1 0 1]\n",
      " [1 0 1 0 1 0 1 0]\n",
      " [0 1 0 1 0 1 0 1]\n",
      " [1 0 1 0 1 0 1 0]\n",
      " [0 1 0 1 0 1 0 1]\n",
      " [1 0 1 0 1 0 1 0]]\n"
     ]
    }
   ],
   "source": [
    "chess = np.array([[(row + column) % 2 for column in range(8)] for row in range(8)])\n",
    "print(chess)"
   ]
  },
  {
   "cell_type": "markdown",
   "metadata": {},
   "source": [
    "15) Создать 8x8 матрицу и заполнить её в шахматном порядке, используя функцию tile"
   ]
  },
  {
   "cell_type": "code",
   "execution_count": 50,
   "metadata": {},
   "outputs": [
    {
     "name": "stdout",
     "output_type": "stream",
     "text": [
      "[[0 1 0 1 0 1 0 1]\n",
      " [1 0 1 0 1 0 1 0]\n",
      " [0 1 0 1 0 1 0 1]\n",
      " [1 0 1 0 1 0 1 0]\n",
      " [0 1 0 1 0 1 0 1]\n",
      " [1 0 1 0 1 0 1 0]\n",
      " [0 1 0 1 0 1 0 1]\n",
      " [1 0 1 0 1 0 1 0]]\n"
     ]
    }
   ],
   "source": [
    "chessAgain = np.tile([[0, 1], [1, 0]], (4, 4))\n",
    "print(chessAgain)"
   ]
  },
  {
   "cell_type": "markdown",
   "metadata": {},
   "source": [
    "16) Перемножить матрицы размеров 5x3 и 3x2"
   ]
  },
  {
   "cell_type": "code",
   "execution_count": 61,
   "metadata": {},
   "outputs": [
    {
     "name": "stdout",
     "output_type": "stream",
     "text": [
      "[[ 0  1  2]\n",
      " [ 3  4  5]\n",
      " [ 6  7  8]\n",
      " [ 9 10 11]\n",
      " [12 13 14]]\n",
      "[[0 1]\n",
      " [2 3]\n",
      " [4 5]]\n",
      "[[ 10  13]\n",
      " [ 28  40]\n",
      " [ 46  67]\n",
      " [ 64  94]\n",
      " [ 82 121]]\n"
     ]
    }
   ],
   "source": [
    "first = np.arange(15).reshape((5, 3))\n",
    "print(first)\n",
    "second = np.arange(6).reshape((3, 2))\n",
    "print(second)\n",
    "product = first.dot(second)\n",
    "print(product)"
   ]
  },
  {
   "cell_type": "markdown",
   "metadata": {},
   "source": [
    "17) Дан массив, поменять знак у элементов, значения которых между 3 и 8"
   ]
  },
  {
   "cell_type": "code",
   "execution_count": 59,
   "metadata": {},
   "outputs": [
    {
     "name": "stdout",
     "output_type": "stream",
     "text": [
      "[ 0  1  2  3  4  5  6  7  8  9 10 11 12 13 14]\n",
      "[ 0  1  2  3 -4 -5 -6 -7  8  9 10 11 12 13 14]\n"
     ]
    }
   ],
   "source": [
    "someArray = np.arange(15)\n",
    "print(someArray)\n",
    "someArray[(someArray > 3) * (someArray < 8)] *= -1\n",
    "print(someArray)"
   ]
  },
  {
   "cell_type": "markdown",
   "metadata": {},
   "source": [
    "18) Создать 5x5 матрицу со значениями в строках от 0 до 4"
   ]
  },
  {
   "cell_type": "code",
   "execution_count": 66,
   "metadata": {},
   "outputs": [
    {
     "name": "stdout",
     "output_type": "stream",
     "text": [
      "[[0 1 2 3 4]\n",
      " [0 1 2 3 4]\n",
      " [0 1 2 3 4]\n",
      " [0 1 2 3 4]\n",
      " [0 1 2 3 4]]\n"
     ]
    }
   ],
   "source": [
    "anotherOne = np.tile(np.arange(5), (5, 1))\n",
    "print(anotherOne)"
   ]
  },
  {
   "cell_type": "markdown",
   "metadata": {},
   "source": [
    "19) Создать вектор размера 10 со значениями от 0 до 1, не включая ни то, ни другое"
   ]
  },
  {
   "cell_type": "code",
   "execution_count": 71,
   "metadata": {},
   "outputs": [
    {
     "name": "stdout",
     "output_type": "stream",
     "text": [
      "[0.08333333 0.16666667 0.25       0.33333333 0.41666667 0.5\n",
      " 0.58333333 0.66666667 0.75       0.83333333]\n"
     ]
    }
   ],
   "source": [
    "bitesTheDust = np.arange(0, 1, 1. / 12)[1:11]\n",
    "print(bitesTheDust)"
   ]
  },
  {
   "cell_type": "markdown",
   "metadata": {},
   "source": [
    "20) Дан массив 10x2 (точки в декартовой системе координат), преобразовать в полярную"
   ]
  },
  {
   "cell_type": "code",
   "execution_count": 97,
   "metadata": {},
   "outputs": [
    {
     "name": "stdout",
     "output_type": "stream",
     "text": [
      "[[0.54221397 0.12894137]\n",
      " [0.06973138 0.34589754]\n",
      " [0.14817119 0.26941899]\n",
      " [0.2599258  0.82223743]\n",
      " [0.39426436 0.42361672]\n",
      " [0.84404249 0.9754719 ]\n",
      " [0.5334352  0.84334577]\n",
      " [0.29486955 0.36017049]\n",
      " [0.69882068 0.0038938 ]\n",
      " [0.50030395 0.82164977]]\n",
      "[[0.55733461 1.33732753]\n",
      " [0.35285631 0.19892919]\n",
      " [0.30747568 0.50281685]\n",
      " [0.86234321 0.30617951]\n",
      " [0.57870157 0.74952526]\n",
      " [1.28994308 0.71329017]\n",
      " [0.99789037 0.56399049]\n",
      " [0.46547914 0.68603646]\n",
      " [0.69883153 1.56522442]\n",
      " [0.96198357 0.54693918]]\n"
     ]
    }
   ],
   "source": [
    "points = np.random.random((10, 2))\n",
    "print(points)\n",
    "rohs = np.sqrt(points[:, 0] ** 2 + points[:, 1] ** 2)\n",
    "phis = np.arctan2(points[:, 0], points[:, 1])\n",
    "points2CivilWar = np.concatenate((rohs[:, np.newaxis], phis[:, np.newaxis]), axis = 1)\n",
    "print(points2CivilWar)"
   ]
  },
  {
   "cell_type": "markdown",
   "metadata": {},
   "source": [
    "21) Заменить максимальный элемент на ноль"
   ]
  },
  {
   "cell_type": "code",
   "execution_count": 100,
   "metadata": {},
   "outputs": [
    {
     "name": "stdout",
     "output_type": "stream",
     "text": [
      "[[0.73641386 0.65530552 0.99157032 0.17545305]\n",
      " [0.91256276 0.01364893 0.67544543 0.52291562]\n",
      " [0.48940081 0.28871752 0.70759844 0.83755963]]\n",
      "[[0.73641386 0.65530552 0.         0.17545305]\n",
      " [0.91256276 0.01364893 0.67544543 0.52291562]\n",
      " [0.48940081 0.28871752 0.70759844 0.83755963]]\n"
     ]
    }
   ],
   "source": [
    "newArray = np.random.random((3, 4))\n",
    "print(newArray)\n",
    "newArray[newArray == np.max(newArray)] = 0\n",
    "print(newArray)"
   ]
  },
  {
   "cell_type": "markdown",
   "metadata": {},
   "source": [
    "22) Из двух массивов сделать матрицу Коши $C (C_{ij} = \\frac{1}{x_i - y_j})$"
   ]
  },
  {
   "cell_type": "code",
   "execution_count": 101,
   "metadata": {},
   "outputs": [
    {
     "name": "stdout",
     "output_type": "stream",
     "text": [
      "[[0.67394679 0.1180227 ]\n",
      " [0.61730841 0.60619812]\n",
      " [0.05875223 0.54746191]\n",
      " [0.27670651 0.76858094]\n",
      " [0.47933116 0.41459282]]\n",
      "[[0.91412413 0.88645848]\n",
      " [0.29642293 0.90809998]\n",
      " [0.7126177  0.69085343]\n",
      " [0.54174585 0.00529109]\n",
      " [0.27782466 0.71520035]]\n",
      "[[-4.16359017 -1.30134493]\n",
      " [ 3.1163766  -3.31233468]\n",
      " [-1.52936658 -6.97391321]\n",
      " [-3.77302479  1.3101183 ]\n",
      " [ 4.96261909 -3.3265966 ]]\n"
     ]
    }
   ],
   "source": [
    "xs = np.random.random((5, 2))\n",
    "print(xs)\n",
    "ys = np.random.random((5, 2))\n",
    "print(ys)\n",
    "cs = 1 / (xs - ys)\n",
    "print(cs)"
   ]
  },
  {
   "cell_type": "markdown",
   "metadata": {},
   "source": [
    "23) Преобразовать массив из float в int"
   ]
  },
  {
   "cell_type": "code",
   "execution_count": 103,
   "metadata": {},
   "outputs": [
    {
     "name": "stdout",
     "output_type": "stream",
     "text": [
      "[3.71861945 0.7579871  2.2236702  5.59458265 8.79100671 8.0203105\n",
      " 0.61424717 1.23730305 9.3762047  9.51136226 5.12838158 3.63317367\n",
      " 2.07948134 6.02227552 8.02196708]\n",
      "[3 0 2 5 8 8 0 1 9 9 5 3 2 6 8]\n"
     ]
    }
   ],
   "source": [
    "someFloats = 10 * np.random.random(15)\n",
    "print(someFloats)\n",
    "someInts = someFloats.astype(int)\n",
    "print(someInts)"
   ]
  },
  {
   "cell_type": "markdown",
   "metadata": {},
   "source": [
    "24) Случайно расположить p элементов в 2D массив"
   ]
  },
  {
   "cell_type": "code",
   "execution_count": 122,
   "metadata": {},
   "outputs": [
    {
     "name": "stdout",
     "output_type": "stream",
     "text": [
      "[[12  7  5  6]\n",
      " [ 8  1 11  9]\n",
      " [ 4  2 10  3]]\n"
     ]
    }
   ],
   "source": [
    "something = np.arange(1, 13)\n",
    "np.random.shuffle(something)\n",
    "something = something.reshape((3, 4))\n",
    "print(something)"
   ]
  },
  {
   "cell_type": "markdown",
   "metadata": {},
   "source": [
    "25) Отнять среднее из каждой строки в матрице"
   ]
  },
  {
   "cell_type": "code",
   "execution_count": 126,
   "metadata": {},
   "outputs": [
    {
     "name": "stdout",
     "output_type": "stream",
     "text": [
      "[[6 6 5 4 7]\n",
      " [4 8 0 3 9]\n",
      " [4 3 0 9 4]\n",
      " [7 3 0 2 9]]\n",
      "[[ 0.4  0.4 -0.6 -1.6  1.4]\n",
      " [-0.8  3.2 -4.8 -1.8  4.2]\n",
      " [ 0.  -1.  -4.   5.   0. ]\n",
      " [ 2.8 -1.2 -4.2 -2.2  4.8]]\n"
     ]
    }
   ],
   "source": [
    "given = np.random.randint(0, 10, (4, 5))\n",
    "print(given)\n",
    "result = np.array([ row - np.mean(row) for row in given ])\n",
    "print(result)"
   ]
  },
  {
   "cell_type": "markdown",
   "metadata": {},
   "source": [
    "26) Найти диагональные элементы произведения матриц"
   ]
  },
  {
   "cell_type": "code",
   "execution_count": 132,
   "metadata": {},
   "outputs": [
    {
     "name": "stdout",
     "output_type": "stream",
     "text": [
      "[61  5]\n"
     ]
    }
   ],
   "source": [
    "heh = np.array([[3, 4, 6], [2, 1, 0]])\n",
    "diagonals = np.diagonal(heh.dot(heh.transpose()))\n",
    "print(diagonals)"
   ]
  },
  {
   "cell_type": "markdown",
   "metadata": {},
   "source": [
    "27) Дан вектор [1, 2, 3, 4, 5], построить новый вектор с тремя нулями между каждым значением"
   ]
  },
  {
   "cell_type": "code",
   "execution_count": 162,
   "metadata": {},
   "outputs": [
    {
     "name": "stdout",
     "output_type": "stream",
     "text": [
      "[1 2 3 4 5]\n",
      "[1 0 0 0 2 0 0 0 3 0 0 0 4 0 0 0 5]\n"
     ]
    }
   ],
   "source": [
    "given = np.arange(1, 6)\n",
    "print(given)\n",
    "result = np.concatenate((np.array([[x, 0, 0, 0] for x in given[:-1]]).flatten(), [5]))\n",
    "print(result)"
   ]
  },
  {
   "cell_type": "markdown",
   "metadata": {},
   "source": [
    "### Разреженные матрицы"
   ]
  },
  {
   "cell_type": "markdown",
   "metadata": {},
   "source": [
    "<img src='../../../img/trainings.png'/>"
   ]
  },
  {
   "cell_type": "markdown",
   "metadata": {},
   "source": [
    "1) Соберите из предложенной таблички csr-матрицу.\n",
    "Дана таблица посещений пользователями сайтов.\n",
    "Строки - описание сессий в интернете для пользователей. Польозватели закодированы числами(1-2-3) в столбце target. Сайты закодированы числами от 1 до 11. Нам не важно, что это были за сайты, при этом 0 - это не сайт, а отсутствие данных, когда за сессию было посещено менее 10 сайтов. \n",
    "Задача - собрать матрицу с частотными описаниями предпочтений пользователей, в которой для каждого сайта указывалось бы, сколько раз пользователь на него вообще заходил за все свои сессии.\n",
    "\n",
    "Насколько эффективнее sparse матрица будет при количестве разных сайтов 10000? При количестве пользователей 1000?"
   ]
  },
  {
   "cell_type": "code",
   "execution_count": 166,
   "metadata": {},
   "outputs": [],
   "source": [
    "import pandas as pd\n",
    "import scipy.sparse"
   ]
  },
  {
   "cell_type": "code",
   "execution_count": 168,
   "metadata": {},
   "outputs": [],
   "source": [
    "data = pd.read_csv('../../../data/train_data_3users.csv')\n",
    "data.drop('session_id', axis=1, inplace=True)\n",
    "given = scipy.sparse.csr_matrix(data.values)"
   ]
  },
  {
   "cell_type": "code",
   "execution_count": 214,
   "metadata": {},
   "outputs": [
    {
     "name": "stdout",
     "output_type": "stream",
     "text": [
      "  (1, 1)\t2\n",
      "  (1, 2)\t1\n",
      "  (2, 1)\t3\n",
      "  (2, 2)\t2\n",
      "  (2, 3)\t3\n",
      "  (3, 1)\t1\n",
      "  (4, 1)\t4\n",
      "  (4, 3)\t5\n",
      "  (5, 1)\t1\n",
      "  (6, 1)\t1\n",
      "  (6, 3)\t1\n",
      "  (7, 1)\t1\n",
      "  (8, 1)\t1\n",
      "  (9, 2)\t2\n",
      "  (10, 3)\t3\n",
      "  (11, 3)\t1\n"
     ]
    }
   ],
   "source": [
    "siteCount = given[:, :-1].max() + 1\n",
    "userCount = given[:, -1].max() + 1\n",
    "usage = scipy.sparse.lil_matrix((siteCount, userCount), dtype=int)\n",
    "cnt = 0\n",
    "for row in given:\n",
    "    user = row[0, -1]\n",
    "    for site in row[0, :-1].data:\n",
    "        usage[site, user] += 1\n",
    "usage = scipy.sparse.csr_matrix(usage)\n",
    "print(usage)"
   ]
  },
  {
   "cell_type": "markdown",
   "metadata": {},
   "source": [
    "2) Создать 2 случайные матрицы размерами 10х10 с долей ненулевых элементов не более 10% и перемножить в их в csr и numpy формате. Сравнить время "
   ]
  },
  {
   "cell_type": "code",
   "execution_count": 245,
   "metadata": {},
   "outputs": [],
   "source": [
    "import time"
   ]
  },
  {
   "cell_type": "code",
   "execution_count": 257,
   "metadata": {},
   "outputs": [
    {
     "name": "stdout",
     "output_type": "stream",
     "text": [
      "[[7 0 0 ... 0 0 0]\n",
      " [0 0 0 ... 0 0 0]\n",
      " [0 0 0 ... 0 0 0]\n",
      " ...\n",
      " [0 0 0 ... 0 0 0]\n",
      " [0 0 0 ... 5 0 0]\n",
      " [0 0 0 ... 0 0 0]]\n",
      "[[0 6 0 ... 0 0 0]\n",
      " [0 0 0 ... 0 0 0]\n",
      " [0 0 0 ... 0 0 0]\n",
      " ...\n",
      " [0 0 0 ... 0 0 0]\n",
      " [6 0 0 ... 2 0 0]\n",
      " [0 0 0 ... 0 0 0]]\n"
     ]
    }
   ],
   "source": [
    "size = 1000\n",
    "\n",
    "def buildMyLittleMatrix(size):\n",
    "    return np.array([[(np.random.randint(10) if np.random.random() < 0.1 else 0) for j in range(size)] for i in range(size)])\n",
    "    \n",
    "a = buildMyLittleMatrix(size)\n",
    "print(a)\n",
    "b = buildMyLittleMatrix(size)\n",
    "print(b)"
   ]
  },
  {
   "cell_type": "code",
   "execution_count": 258,
   "metadata": {},
   "outputs": [
    {
     "name": "stdout",
     "output_type": "stream",
     "text": [
      "1463.3276462554932 ms\n",
      "[[265 200 207 ... 267 173 240]\n",
      " [259 174  93 ... 212 200 274]\n",
      " [212 168 199 ... 220  90 184]\n",
      " ...\n",
      " [260 234 309 ... 106  92 122]\n",
      " [159 374 219 ...  75 177 169]\n",
      " [152 115 107 ... 138 183 103]]\n",
      "\n",
      "107.93566703796387 ms\n",
      "  (0, 0)\t265\n",
      "  (0, 1)\t200\n",
      "  (0, 2)\t207\n",
      "  (0, 3)\t182\n",
      "  (0, 4)\t269\n",
      "  (0, 5)\t190\n",
      "  (0, 6)\t31\n",
      "  (0, 7)\t297\n",
      "  (0, 8)\t210\n",
      "  (0, 9)\t202\n",
      "  (0, 10)\t240\n",
      "  (0, 11)\t112\n",
      "  (0, 12)\t290\n",
      "  (0, 13)\t125\n",
      "  (0, 14)\t252\n",
      "  (0, 15)\t236\n",
      "  (0, 16)\t204\n",
      "  (0, 17)\t120\n",
      "  (0, 18)\t359\n",
      "  (0, 19)\t209\n",
      "  (0, 20)\t144\n",
      "  (0, 21)\t244\n",
      "  (0, 22)\t180\n",
      "  (0, 23)\t227\n",
      "  (0, 24)\t365\n",
      "  :\t:\n",
      "  (999, 975)\t295\n",
      "  (999, 976)\t74\n",
      "  (999, 977)\t165\n",
      "  (999, 978)\t232\n",
      "  (999, 979)\t203\n",
      "  (999, 980)\t207\n",
      "  (999, 981)\t192\n",
      "  (999, 982)\t207\n",
      "  (999, 983)\t121\n",
      "  (999, 984)\t54\n",
      "  (999, 985)\t317\n",
      "  (999, 986)\t161\n",
      "  (999, 987)\t235\n",
      "  (999, 988)\t66\n",
      "  (999, 989)\t138\n",
      "  (999, 990)\t63\n",
      "  (999, 991)\t174\n",
      "  (999, 992)\t269\n",
      "  (999, 993)\t116\n",
      "  (999, 994)\t343\n",
      "  (999, 995)\t154\n",
      "  (999, 996)\t123\n",
      "  (999, 997)\t138\n",
      "  (999, 998)\t183\n",
      "  (999, 999)\t103\n",
      "\n"
     ]
    }
   ],
   "source": [
    "numpyTime = time.time()\n",
    "result = a.dot(b)\n",
    "numpyTime = time.time() - numpyTime \n",
    "print(numpyTime * 1000, 'ms')\n",
    "print(result)\n",
    "print()\n",
    "\n",
    "aCsr = scipy.sparse.csr_matrix(a)\n",
    "bCsr = scipy.sparse.csr_matrix(b)\n",
    "scipyTime = time.time()\n",
    "result = aCsr.dot(bCsr)\n",
    "result.sort_indices()\n",
    "scipyTime = time.time() - scipyTime\n",
    "print(scipyTime * 1000, 'ms')\n",
    "print(result)\n",
    "print()"
   ]
  },
  {
   "cell_type": "markdown",
   "metadata": {},
   "source": [
    "### PANDAS"
   ]
  },
  {
   "cell_type": "markdown",
   "metadata": {},
   "source": [
    "<img src='../../../img/trainings2.jpg'/>"
   ]
  },
  {
   "cell_type": "markdown",
   "metadata": {},
   "source": [
    "**В задании предлагается с помощью Pandas ответить на несколько вопросов по данным репозитория UCI [Adult](https://archive.ics.uci.edu/ml/datasets/Adult) (качать данные не надо – они уже есть в репозитории)."
   ]
  },
  {
   "cell_type": "markdown",
   "metadata": {},
   "source": [
    "Уникальные значения признаков (больше информации по ссылке выше):\n",
    "- age: continuous.\n",
    "- workclass: Private, Self-emp-not-inc, Self-emp-inc, Federal-gov, Local-gov, State-gov, Without-pay, Never-worked.\n",
    "- fnlwgt: continuous.\n",
    "- education: Bachelors, Some-college, 11th, HS-grad, Prof-school, Assoc-acdm, Assoc-voc, 9th, 7th-8th, 12th, Masters, 1st-4th, 10th, Doctorate, 5th-6th, Preschool.\n",
    "- education-num: continuous.\n",
    "- marital-status: Married-civ-spouse, Divorced, Never-married, Separated, Widowed, Married-spouse-absent, Married-AF-spouse.\n",
    "- occupation: Tech-support, Craft-repair, Other-service, Sales, Exec-managerial, Prof-specialty, Handlers-cleaners, Machine-op-inspct, Adm-clerical, Farming-fishing, Transport-moving, Priv-house-serv, Protective-serv, Armed-Forces.\n",
    "- relationship: Wife, Own-child, Husband, Not-in-family, Other-relative, Unmarried.\n",
    "- race: White, Asian-Pac-Islander, Amer-Indian-Eskimo, Other, Black.\n",
    "- sex: Female, Male.\n",
    "- capital-gain: continuous.\n",
    "- capital-loss: continuous.\n",
    "- hours-per-week: continuous.\n",
    "- native-country: United-States, Cambodia, England, Puerto-Rico, Canada, Germany, Outlying-US(Guam-USVI-etc), India, Japan, Greece, South, China, Cuba, Iran, Honduras, Philippines, Italy, Poland, Jamaica, Vietnam, Mexico, Portugal, Ireland, France, Dominican-Republic, Laos, Ecuador, Taiwan, Haiti, Columbia, Hungary, Guatemala, Nicaragua, Scotland, Thailand, Yugoslavia, El-Salvador, Trinadad&Tobago, Peru, Hong, Holand-Netherlands.   \n",
    "- salary: >50K,<=50K"
   ]
  },
  {
   "cell_type": "code",
   "execution_count": null,
   "metadata": {
    "collapsed": true
   },
   "outputs": [],
   "source": [
    "import pandas as pd\n",
    "# чтоб картинки рисовались в тетрадке\n",
    "%matplotlib inline \n",
    "import matplotlib.pyplot as plt\n",
    "import seaborn as sns\n",
    "plt.rcParams['figure.figsize'] = (10, 8)"
   ]
  },
  {
   "cell_type": "code",
   "execution_count": null,
   "metadata": {},
   "outputs": [],
   "source": [
    "data = pd.read_csv('../../../data/adult.data.csv')\n",
    "data.head()"
   ]
  },
  {
   "cell_type": "markdown",
   "metadata": {},
   "source": [
    "1) Сколько мужчин и женщин (признак *sex*) представлено в этом наборе данных?"
   ]
  },
  {
   "cell_type": "code",
   "execution_count": null,
   "metadata": {
    "collapsed": true
   },
   "outputs": [],
   "source": []
  },
  {
   "cell_type": "markdown",
   "metadata": {},
   "source": [
    "2) Каков средний возраст (признак *age*) женщин?"
   ]
  },
  {
   "cell_type": "code",
   "execution_count": null,
   "metadata": {
    "collapsed": true
   },
   "outputs": [],
   "source": []
  },
  {
   "cell_type": "markdown",
   "metadata": {},
   "source": [
    "3) Постройте гистограмму распределения (*bar plot*) образования людей (признак *education*)."
   ]
  },
  {
   "cell_type": "code",
   "execution_count": null,
   "metadata": {
    "collapsed": true
   },
   "outputs": [],
   "source": []
  },
  {
   "cell_type": "markdown",
   "metadata": {},
   "source": [
    "4) Каковы средние значения и среднеквадратичные отклонения возраста тех, кто получает более 50K в год (признак *salary*) и тех, кто получает менее 50K в год?"
   ]
  },
  {
   "cell_type": "code",
   "execution_count": null,
   "metadata": {
    "collapsed": true
   },
   "outputs": [],
   "source": []
  },
  {
   "cell_type": "markdown",
   "metadata": {},
   "source": [
    "5) Правда ли, что люди, которые получают больше 50k, имеют как минимум высшее образование? (признак *education - Bachelors, Prof-school, Assoc-acdm, Assoc-voc, Masters* или *Doctorate*)"
   ]
  },
  {
   "cell_type": "code",
   "execution_count": null,
   "metadata": {
    "collapsed": true
   },
   "outputs": [],
   "source": []
  },
  {
   "cell_type": "markdown",
   "metadata": {},
   "source": [
    "6) Среди кого больше доля зарабатывающих много (>50K): среди женатых или холостых мужчин (признак *marital-status*)? Женатыми считаем тех, у кого *marital-status* начинается с *Married* (Married-civ-spouse, Married-spouse-absent или Married-AF-spouse), остальных считаем холостыми."
   ]
  },
  {
   "cell_type": "code",
   "execution_count": null,
   "metadata": {
    "collapsed": true
   },
   "outputs": [],
   "source": []
  },
  {
   "cell_type": "markdown",
   "metadata": {},
   "source": [
    "7) Посчитайте среднее время работы (*hours-per-week*) зарабатывающих мало и много (*salary*) для каждой страны (*native-country*)."
   ]
  },
  {
   "cell_type": "code",
   "execution_count": null,
   "metadata": {
    "collapsed": true
   },
   "outputs": [],
   "source": []
  },
  {
   "cell_type": "markdown",
   "metadata": {},
   "source": [
    "###  Графики"
   ]
  },
  {
   "cell_type": "markdown",
   "metadata": {},
   "source": [
    "<img src='../../../img/trainings.JPG' width=50%>"
   ]
  },
  {
   "cell_type": "markdown",
   "metadata": {},
   "source": [
    "## Загрузка и знакомство с данными\n",
    "\n",
    "Для работы вам понадобятся данные из учебного конкурса на kaggle [«Прогноз популярности статьи на Хабре»](https://inclass.kaggle.com/c/howpop-habrahabr-favs-lognorm). Файл **`howpop_train.csv`** уже лежит в нашем репозитории в каталоге **`data`**."
   ]
  },
  {
   "cell_type": "code",
   "execution_count": null,
   "metadata": {
    "collapsed": true
   },
   "outputs": [],
   "source": [
    "df = pd.read_csv('../../../data/howpop_train.csv')"
   ]
  },
  {
   "cell_type": "code",
   "execution_count": null,
   "metadata": {},
   "outputs": [],
   "source": [
    "df.shape"
   ]
  },
  {
   "cell_type": "code",
   "execution_count": null,
   "metadata": {},
   "outputs": [],
   "source": [
    "df.head(3).T"
   ]
  },
  {
   "cell_type": "markdown",
   "metadata": {},
   "source": [
    "Избавимся сразу от переменных, названия которых заканчиваются на `_lognorm`. Выберем их с помощью `filter()` и удалим `drop`-ом:"
   ]
  },
  {
   "cell_type": "code",
   "execution_count": null,
   "metadata": {
    "collapsed": true
   },
   "outputs": [],
   "source": [
    "df.drop(filter(lambda c: c.endswith('_lognorm'), df.columns), \n",
    "        axis = 1,       # axis = 1: столбцы \n",
    "        inplace = True) # избавляет от необходимости сохранять датасет"
   ]
  },
  {
   "cell_type": "code",
   "execution_count": null,
   "metadata": {},
   "outputs": [],
   "source": [
    "df.describe().T"
   ]
  },
  {
   "cell_type": "code",
   "execution_count": null,
   "metadata": {},
   "outputs": [],
   "source": [
    "df.describe(include = ['object', 'bool'] # бинарные и категориальные переменные\n",
    "           ).T"
   ]
  },
  {
   "cell_type": "code",
   "execution_count": null,
   "metadata": {
    "collapsed": true
   },
   "outputs": [],
   "source": [
    "# настройка внешнего вида графиков в seaborn\n",
    "sns.set_style(\"dark\")\n",
    "sns.set_palette(\"RdBu\")\n",
    "sns.set_context(\"notebook\", font_scale = 1.5, \n",
    "                rc = { \"figure.figsize\" : (15, 5), \"axes.titlesize\" : 18 })"
   ]
  },
  {
   "cell_type": "markdown",
   "metadata": {},
   "source": [
    "Столбец **`published`** (время публикации) содержит строки. Чтобы мы могли работать с этими данными как с датой/временем публикации, приведём их к типу `datetime`:"
   ]
  },
  {
   "cell_type": "code",
   "execution_count": null,
   "metadata": {},
   "outputs": [],
   "source": [
    "print(df.published.dtype)\n",
    "df['published'] = pd.to_datetime(df.published, yearfirst = True)\n",
    "print(df.published.dtype)"
   ]
  },
  {
   "cell_type": "markdown",
   "metadata": {},
   "source": [
    "Создадим несколько столбцов на основе данных о времени публикации:"
   ]
  },
  {
   "cell_type": "code",
   "execution_count": null,
   "metadata": {
    "collapsed": true
   },
   "outputs": [],
   "source": [
    "df['year'] = [d.year for d in df.published]\n",
    "df['month'] = [d.month for d in df.published]\n",
    "\n",
    "df['dayofweek'] = [d.isoweekday() for d in df.published]\n",
    "df['hour'] = [d.hour for d in df.published]"
   ]
  },
  {
   "cell_type": "markdown",
   "metadata": {},
   "source": [
    "-----\n",
    "Теперь Ваша очередь. В каждом пункте предлагается построить картинку и с ее помощью ответить на вопрос. Конечно, можно попытаться ответить на все вопросы только с Pandas, без картинок, но мы будем смотреть на (красивые) визуализации.   "
   ]
  },
  {
   "cell_type": "markdown",
   "metadata": {},
   "source": [
    "#### 1\\. В каком месяце (и какого года) было больше всего публикаций?\n",
    "\n",
    "* март 2016,\n",
    "* март 2015,\n",
    "* апрель 2015,\n",
    "* апрель 2016."
   ]
  },
  {
   "cell_type": "code",
   "execution_count": null,
   "metadata": {
    "collapsed": true
   },
   "outputs": [],
   "source": []
  },
  {
   "cell_type": "markdown",
   "metadata": {},
   "source": [
    "#### 2\\. Проанализируйте публикации в этом месяце (из вопроса 1)\n",
    "\n",
    "Выберите один или несколько вариантов:\n",
    "\n",
    "* На графике не заметны какие-либо выбросы или аномалии,\n",
    "* Один или несколько дней сильно выделяются из общей картины,\n",
    "* На хабре _всегда_ больше статей, чем на гиктаймсе,\n",
    "* По субботам на гиктаймс и на хабрахабр публикуют примерно одинаковое число статей.\n",
    "\n",
    "Подсказки: постройте график зависимости числа публикаций от дня; используйте параметр `hue`"
   ]
  },
  {
   "cell_type": "code",
   "execution_count": null,
   "metadata": {
    "collapsed": true
   },
   "outputs": [],
   "source": []
  },
  {
   "cell_type": "markdown",
   "metadata": {},
   "source": [
    "#### 3\\. Выберите верное утверждение\n",
    "\n",
    "* Больше всего просмотров (в среднем) набирают статьи, опубликованные в 12 часов дня;\n",
    "* У опубликованных в 10 утра постов больше всего комментариев  (в среднем);\n",
    "* Больше всего просмотров  (в среднем) набирают статьи, опубликованные в 6 часов утра;\n",
    "* Максимальное число комментариев на гиктаймсе набрала статья, опубликованная в 9 часов вечера;\n",
    "* На хабре дневные статьи комментируют чаще  (в среднем), чем вечерние."
   ]
  },
  {
   "cell_type": "code",
   "execution_count": null,
   "metadata": {
    "collapsed": true
   },
   "outputs": [],
   "source": []
  },
  {
   "cell_type": "markdown",
   "metadata": {},
   "source": [
    "#### 4\\. Кого из топ-20 авторов (по числу статей) чаще всего минусуют (в среднем)?\n",
    "\n",
    "* @Mordatyj\n",
    "* @Mithgol\n",
    "* @alizar\n",
    "* @ilya42"
   ]
  },
  {
   "cell_type": "code",
   "execution_count": null,
   "metadata": {
    "collapsed": true
   },
   "outputs": [],
   "source": []
  },
  {
   "cell_type": "markdown",
   "metadata": {},
   "source": [
    "#### 5\\. Сравните субботы и понедельники\n",
    "\n",
    "Правда ли, что по субботам авторы пишут в основном днём, а по понедельникам — в основном вечером?"
   ]
  },
  {
   "cell_type": "code",
   "execution_count": null,
   "metadata": {
    "collapsed": true
   },
   "outputs": [],
   "source": []
  }
 ],
 "metadata": {
  "kernelspec": {
   "display_name": "Python [default]",
   "language": "python",
   "name": "python3"
  },
  "language_info": {
   "codemirror_mode": {
    "name": "ipython",
    "version": 3
   },
   "file_extension": ".py",
   "mimetype": "text/x-python",
   "name": "python",
   "nbconvert_exporter": "python",
   "pygments_lexer": "ipython3",
   "version": "3.6.6"
  }
 },
 "nbformat": 4,
 "nbformat_minor": 2
}
