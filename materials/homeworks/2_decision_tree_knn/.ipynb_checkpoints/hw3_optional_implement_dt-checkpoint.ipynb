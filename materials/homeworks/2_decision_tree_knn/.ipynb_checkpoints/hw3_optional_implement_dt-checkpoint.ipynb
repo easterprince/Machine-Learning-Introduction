{
 "cells": [
  {
   "cell_type": "markdown",
   "metadata": {},
   "source": [
    "Авторы материала: аспирант Мехмата МГУ Евгений Колмаков, программист-исследователь Mail.ru Group Юрий Кашницкий."
   ]
  },
  {
   "cell_type": "markdown",
   "metadata": {},
   "source": [
    "# <center>Домашнее задание № 3. Опциональная часть \n",
    "## <center> Реализация алгоритма построения дерева решений"
   ]
  },
  {
   "cell_type": "markdown",
   "metadata": {},
   "source": [
    "**Заполните код в клетках (где написано \"Ваш код здесь\") и ответьте на вопросы в [веб-форме](https://docs.google.com/forms/d/1k4jn-czjTL_6pnQD96N3kA0uSq3cCGHcfNdKpfICURA/edit?usp=sharing).**"
   ]
  },
  {
   "cell_type": "code",
   "execution_count": 14,
   "metadata": {},
   "outputs": [],
   "source": [
    "import numpy as np\n",
    "from matplotlib import pyplot as plt\n",
    "%matplotlib inline\n",
    "from sklearn.base import BaseEstimator\n",
    "from sklearn.datasets import make_classification, make_regression, load_digits, load_boston\n",
    "from sklearn.model_selection import train_test_split, GridSearchCV\n",
    "from sklearn.metrics import accuracy_score, mean_squared_error\n",
    "from collections import Counter"
   ]
  },
  {
   "cell_type": "markdown",
   "metadata": {},
   "source": [
    "Зафиксируем заранее `random_state` (a.k.a. random seed). Это должно повысить вероятность полной воспроизводимости результатов, впрочем, замечено, что тем не менее небольшие флуктуации возможны (например, качества прогнозов дерева, которое мы сейчас вырастим) в случае разных ОС."
   ]
  },
  {
   "cell_type": "code",
   "execution_count": 15,
   "metadata": {},
   "outputs": [],
   "source": [
    "RANDOM_STATE = 17"
   ]
  },
  {
   "cell_type": "markdown",
   "metadata": {
    "collapsed": true
   },
   "source": [
    "**Необходимо реализовать класс `DecisionTree`**\n",
    "\n",
    "**Спецификация:**\n",
    "- класс наследуется от `sklearn.BaseEstimator`;\n",
    "- конструктор содержит следующие параметры: \n",
    "    `max_depth` - максимальная глубина дерева (по умолчанию - `numpy.inf`); \n",
    "    `min_samples_split` - минимальное число объектов в вершине, при котором происходит её разбиение (по умолчанию - 2); \n",
    "    `criterion` - критерий разбиения (для классификации - 'gini' или 'entropy', для регрессии - 'variance' или 'mad_median'; \n",
    "    по умолчанию - 'gini');\n",
    "    \n",
    "    Функционал, значение которого максимизируется для поиска оптимального разбиения в данной вершине имеет вид\n",
    "    $$Q(X, j, t) = F(X) - \\dfrac{|X_l|}{|X|} F(X_l) - \\dfrac{|X_r|}{|X|} F(X_r),$$\n",
    "    где $X$ - выборка, находящаяся в текущей вершине, $X_l$ и $X_r$ - разбиение выборки $X$ на две части \n",
    "    по предикату $[x_j < t]$, а $F(X)$ -критерий разбиения.\n",
    "    \n",
    "    Для классификации: пусть $p_i$ - доля объектов $i$-го класса в выборке $X$.\n",
    "    \n",
    "    'gini': Неопределенность Джини $F(X) = 1 -\\sum_{i = 1}^K p_i^2$.\n",
    "    \n",
    "    'entropy': Энтропия $F(X) = -\\sum_{i = 1}^K p_i \\log_2(p_i)$.\n",
    "    \n",
    "    Для регрессии: $y_j = y(x_j)$ - ответ на объекте $x_j$, $y = (y_1, \\dots, y_{|X|})$ - вектор ответов.\n",
    "    \n",
    "    'variance': Дисперсия (среднее квадратичное отклонение от среднего) $F(X) = \\dfrac{1}{|X|} \\sum_{x_j \\in X}(y_j - \\dfrac{1}{|X|}\\sum_{x_i \\in X}y_i)^2$\n",
    "    \n",
    "    'mad_median': Среднее отклонение от медианы $F(X) = \\dfrac{1}{|X|} \\sum_{x_j \\in X}|y_j - \\mathrm{med}(y)|$\n",
    "    \n",
    "- класс имеет методы `fit`, `predict` и `predict_proba`;\n",
    "- метод `fit` принимает матрицу объектов `X` и вектор ответов `y` (объекты `numpy.ndarray`) и возвращает экземпляр класса\n",
    "    `DecisionTree`, представляющий собой решающее дерево, обученное по выборке `(X, y)` с учётом заданных в конструкторе параметров; \n",
    "- метод `predict_proba` принимает матрицу объектов `X` и возвращает матрицу `P` размера `X.shape[0] x K`, где `K` - число классов, такую что $p_{ij}$ есть вероятность принадлежности объекта, заданного $i$-ой строкой матрицы X к классу $j \\in \\{1, \\dots, K\\}$.\n",
    "- метод `predict` принимает матрицу объектов и возвращает вектор предсказанных ответов; в случае классификации - это \n",
    "    наиболее многочисленный класс в листе, в который попал объект, а в случае регрессии - среднее значение ответов по \n",
    "    всем объектам этого листа;"
   ]
  },
  {
   "cell_type": "code",
   "execution_count": 16,
   "metadata": {},
   "outputs": [],
   "source": [
    "from MyDecisionTree import DecisionTree"
   ]
  },
  {
   "cell_type": "code",
   "execution_count": 17,
   "metadata": {},
   "outputs": [
    {
     "name": "stdout",
     "output_type": "stream",
     "text": [
      "(28, 1)\n",
      "(28,)\n",
      "DecisionTree(criterion='variance', debug=None, max_depth=2, min_samples_split=2)\n"
     ]
    },
    {
     "data": {
      "text/plain": [
       "[<matplotlib.lines.Line2D at 0x169eb3f9c88>,\n",
       " <matplotlib.lines.Line2D at 0x169eb419548>]"
      ]
     },
     "execution_count": 17,
     "metadata": {},
     "output_type": "execute_result"
    },
    {
     "data": {
      "image/png": "[encoded data removed]",
      "text/plain": [
       "<Figure size 432x288 with 1 Axes>"
      ]
     },
     "metadata": {
      "needs_background": "light"
     },
     "output_type": "display_data"
    }
   ],
   "source": [
    "X = np.linspace(-2, 2, 7)\n",
    "X = np.sort(np.concatenate((X, X, X, X)))\n",
    "y = np.abs(X) ** 0.5\n",
    "X = X.reshape(-1, 1)\n",
    "print(X.shape)\n",
    "print(y.shape)\n",
    "\n",
    "decisionTree = DecisionTree(max_depth = 2, criterion = 'variance')\n",
    "decisionTree.fit(X, y)\n",
    "print(decisionTree)\n",
    "\n",
    "aaa = np.arange(-3, 3, 0.01).reshape((-1, 1))\n",
    "predicted = decisionTree.predict(aaa)\n",
    "\n",
    "plt.plot(X, y, 'g', aaa, predicted, 'r')"
   ]
  },
  {
   "cell_type": "markdown",
   "metadata": {},
   "source": [
    "## Тестирование реализованного алгоритма"
   ]
  },
  {
   "cell_type": "markdown",
   "metadata": {},
   "source": [
    "### Классификация"
   ]
  },
  {
   "cell_type": "markdown",
   "metadata": {},
   "source": [
    "С помощью метода `load_digits` загрузите датасет `digits`. Разделите выборку на обучающую и тестовую с помощью метода `train_test_split`, используйте значения параметров `test_size=0.2`, `random_state=17`. Попробуйте обучить неглубокие решающие деревья и убедитесь, что критерии gini и entropy дают разные результаты."
   ]
  },
  {
   "cell_type": "code",
   "execution_count": 18,
   "metadata": {},
   "outputs": [
    {
     "name": "stdout",
     "output_type": "stream",
     "text": [
      "[[ 0.  0.  5. ...  0.  0.  0.]\n",
      " [ 0.  0.  0. ... 10.  0.  0.]\n",
      " [ 0.  0.  0. ... 16.  9.  0.]\n",
      " ...\n",
      " [ 0.  0.  1. ...  6.  0.  0.]\n",
      " [ 0.  0.  2. ... 12.  0.  0.]\n",
      " [ 0.  0. 10. ... 12.  1.  0.]] (1797, 64)\n",
      "[0 1 2 ... 8 9 8] (1797,)\n",
      "\n",
      "[[ 0.  0.  3. ... 16.  2.  0.]\n",
      " [ 0.  0.  6. ...  0.  0.  0.]\n",
      " [ 0.  1.  7. ...  0.  0.  0.]\n",
      " ...\n",
      " [ 0.  6. 16. ... 11.  1.  0.]\n",
      " [ 0.  1.  8. ...  0.  0.  0.]\n",
      " [ 0.  0.  0. ... 16. 16. 16.]] (1437, 64)\n",
      "[[ 0.  0.  0. ...  6.  0.  0.]\n",
      " [ 0.  0.  0. ... 14.  4.  0.]\n",
      " [ 0.  0.  5. ...  0.  0.  0.]\n",
      " ...\n",
      " [ 0.  0.  2. ... 15.  4.  0.]\n",
      " [ 0.  0.  4. ...  6.  0.  0.]\n",
      " [ 0.  0. 13. ...  0.  0.  0.]] (360, 64)\n",
      "\n",
      "[1 9 5 ... 3 7 1] (1437,)\n",
      "[1 2 7 3 9 5 8 9 8 1 4 3 5 0 9 9 5 3 9 6 6 3 6 4 6 2 6 7 3 1 8 4 1 1 0 2 3\n",
      " 5 5 5 5 6 0 5 3 5 1 8 2 9 9 4 0 8 8 1 1 1 0 4 1 2 0 7 9 8 8 6 0 8 8 3 4 6\n",
      " 4 3 2 3 9 7 5 8 3 5 1 8 9 5 4 7 7 8 3 0 2 7 9 9 4 0 5 6 4 0 1 3 3 1 8 7 4\n",
      " 2 5 5 3 9 6 4 2 7 4 1 8 5 1 5 8 6 5 5 4 9 4 2 7 8 4 4 4 9 7 1 9 9 2 0 0 3\n",
      " 5 8 1 9 5 3 6 8 7 4 6 1 9 7 6 4 0 9 4 3 0 9 8 5 5 4 2 1 5 1 6 9 2 2 9 9 0\n",
      " 4 4 7 0 1 5 8 2 9 9 6 0 3 9 5 6 3 9 6 2 4 7 3 0 6 9 2 8 0 3 5 8 5 9 9 2 7\n",
      " 0 6 9 0 5 1 4 5 3 0 9 2 5 1 4 2 8 0 8 1 3 3 3 6 2 1 9 9 0 4 5 2 8 3 1 7 5\n",
      " 1 4 9 1 2 2 0 4 2 0 3 8 7 3 3 9 3 7 6 4 8 3 7 1 6 4 2 3 7 5 6 4 3 7 6 7 1\n",
      " 1 7 9 6 3 1 2 5 8 4 0 7 4 0 3 6 5 7 7 1 8 0 8 3 4 4 2 7 4 1 5 2 0 8 2 7 8\n",
      " 7 0 0 6 2 2 8 6 5 6 9 5 8 4 3 9 2 5 0 2 5 6 8 4 6 0 7] (360,)\n",
      "\n"
     ]
    }
   ],
   "source": [
    "X, y = load_digits(return_X_y = True)\n",
    "X = np.array(X)\n",
    "y = np.array(y)\n",
    "print(X, X.shape)\n",
    "print(y, y.shape)\n",
    "print()\n",
    "\n",
    "train_X, test_X, train_y, test_y = train_test_split(X, y, test_size = 0.2, random_state = 17)\n",
    "print(train_X, train_X.shape)\n",
    "print(test_X, test_X.shape)\n",
    "print()\n",
    "print(train_y, train_y.shape)\n",
    "print(test_y, test_y.shape)\n",
    "print()"
   ]
  },
  {
   "cell_type": "code",
   "execution_count": 19,
   "metadata": {},
   "outputs": [
    {
     "name": "stdout",
     "output_type": "stream",
     "text": [
      "7.130955696105957\n",
      "0.005955219268798828\n",
      "0.009008169174194336\n"
     ]
    }
   ],
   "source": [
    "import time\n",
    "\n",
    "start = time.time()\n",
    "decisionTree = DecisionTree(max_depth = 11, criterion = 'entropy')\n",
    "decisionTree.fit(train_X, train_y)\n",
    "end = time.time()\n",
    "print(end - start)\n",
    "\n",
    "start = time.time()\n",
    "decisionTree.predict(test_X)\n",
    "end = time.time()\n",
    "print(end - start)\n",
    "\n",
    "start = time.time()\n",
    "decisionTree.predict_proba(test_X)\n",
    "end = time.time()\n",
    "print(end - start)"
   ]
  },
  {
   "cell_type": "markdown",
   "metadata": {},
   "source": [
    "С помощью 5-кратной кросс-валидации (`GridSearchCV`) подберите оптимальное значение параметров `max_depth` и `criterion`. Для параметра `max_depth` используйте диапазон значений - range(3, 11), а для criterion - {'gini', 'entropy'}. Критерий качества `scoring`='accuracy'."
   ]
  },
  {
   "cell_type": "code",
   "execution_count": 20,
   "metadata": {},
   "outputs": [
    {
     "name": "stdout",
     "output_type": "stream",
     "text": [
      "Fitting 5 folds for each of 16 candidates, totalling 80 fits\n"
     ]
    },
    {
     "name": "stderr",
     "output_type": "stream",
     "text": [
      "[Parallel(n_jobs=-1)]: Using backend LokyBackend with 4 concurrent workers.\n",
      "[Parallel(n_jobs=-1)]: Done  80 out of  80 | elapsed:    2.5s finished\n",
      "C:\\ProgramData\\Anaconda3\\lib\\site-packages\\sklearn\\model_selection\\_search.py:814: DeprecationWarning: The default of the `iid` parameter will change from True to False in version 0.22 and will be removed in 0.24. This will change numeric results when test-set sizes are unequal.\n",
      "  DeprecationWarning)\n",
      "[Parallel(n_jobs=-1)]: Using backend LokyBackend with 4 concurrent workers.\n"
     ]
    },
    {
     "name": "stdout",
     "output_type": "stream",
     "text": [
      "best parameters: {'criterion': 'entropy', 'max_depth': 10}\n",
      "best score: 0.8677800974251914\n",
      "Fitting 5 folds for each of 16 candidates, totalling 80 fits\n"
     ]
    },
    {
     "name": "stderr",
     "output_type": "stream",
     "text": [
      "[Parallel(n_jobs=-1)]: Done  42 tasks      | elapsed:   18.8s\n",
      "[Parallel(n_jobs=-1)]: Done  80 out of  80 | elapsed:   58.0s finished\n"
     ]
    },
    {
     "name": "stdout",
     "output_type": "stream",
     "text": [
      "best parameters: {'criterion': 'entropy', 'max_depth': 8}\n",
      "best score: 0.8636047320807237\n"
     ]
    }
   ],
   "source": [
    "from sklearn.tree import DecisionTreeClassifier\n",
    "\n",
    "tree_params = {'max_depth': list(range(3, 11)), 'criterion': ['gini', 'entropy']}\n",
    "\n",
    "decisionTree = DecisionTreeClassifier()\n",
    "tree_grid = GridSearchCV(decisionTree, tree_params, cv = 5, n_jobs = -1,\n",
    "                         verbose = True, scoring = 'accuracy')\n",
    "tree_grid.fit(train_X, train_y)\n",
    "print('best parameters: {0}'.format(tree_grid.best_params_))\n",
    "print('best score: {0}'.format(tree_grid.best_score_))\n",
    "\n",
    "\n",
    "tree_params = {'max_depth': list(range(3, 11)),\n",
    "               'criterion': ['gini', 'entropy']}\n",
    "\n",
    "decisionTree = DecisionTree()\n",
    "tree_grid = GridSearchCV(decisionTree, tree_params, cv = 5, n_jobs = -1,\n",
    "                         verbose = True, scoring = 'accuracy')\n",
    "tree_grid.fit(train_X, train_y)\n",
    "print('best parameters: {0}'.format(tree_grid.best_params_))\n",
    "print('best score: {0}'.format(tree_grid.best_score_))"
   ]
  },
  {
   "cell_type": "markdown",
   "metadata": {},
   "source": [
    "Постройте графики средних значений критерия качества `accuracy` для критериев `gini` и `entropy` в зависимости от `max_depth`."
   ]
  },
  {
   "cell_type": "code",
   "execution_count": 21,
   "metadata": {},
   "outputs": [],
   "source": [
    "def visualize_tree_grid_results(tree_grid):\n",
    "    depths = [params['max_depth'] for params in tree_grid.cv_results_['params']]\n",
    "    criterions = [params['criterion'] for params in tree_grid.cv_results_['params']]\n",
    "    scores = np.array(tree_grid.cv_results_['mean_test_score'])\n",
    "\n",
    "    separated_depths = {}\n",
    "    separated_scores = {}\n",
    "    for depth, criterion, score in zip(depths, criterions, scores):\n",
    "        if criterion not in separated_depths:\n",
    "            separated_depths[criterion] = list()\n",
    "            separated_scores[criterion] = list()\n",
    "        separated_depths[criterion].append(depth)\n",
    "        separated_scores[criterion].append(score)\n",
    "    for criterion in separated_depths:\n",
    "        rearrange = np.argsort(separated_depths[criterion])\n",
    "        separated_depths[criterion] = np.array(separated_depths[criterion])[rearrange]\n",
    "        separated_scores[criterion] = np.array(separated_scores[criterion])[rearrange]\n",
    "\n",
    "    for criterion in separated_depths:\n",
    "        print(criterion, separated_scores[criterion])\n",
    "        plt.plot(separated_depths[criterion], separated_scores[criterion])\n",
    "    plt.legend(separated_depths.keys())\n",
    "    plt.xlabel('depth')\n",
    "    plt.ylabel('score')"
   ]
  },
  {
   "cell_type": "code",
   "execution_count": 22,
   "metadata": {},
   "outputs": [
    {
     "name": "stdout",
     "output_type": "stream",
     "text": [
      "gini [0.46764092 0.57689631 0.68128045 0.76130828 0.8197634  0.82950592\n",
      " 0.84272791 0.83855254]\n",
      "entropy [0.52331246 0.67571329 0.76270007 0.81837161 0.84899095 0.86360473\n",
      " 0.86360473 0.86082116]\n"
     ]
    },
    {
     "ename": "NameError",
     "evalue": "name 'matplotlib' is not defined",
     "output_type": "error",
     "traceback": [
      "\u001b[1;31m---------------------------------------------------------------------------\u001b[0m",
      "\u001b[1;31mNameError\u001b[0m                                 Traceback (most recent call last)",
      "\u001b[1;32m<ipython-input-22-b3dc40755cea>\u001b[0m in \u001b[0;36m<module>\u001b[1;34m\u001b[0m\n\u001b[1;32m----> 1\u001b[1;33m \u001b[0mvisualize_tree_grid_results\u001b[0m\u001b[1;33m(\u001b[0m\u001b[0mtree_grid\u001b[0m\u001b[1;33m)\u001b[0m\u001b[1;33m\u001b[0m\u001b[1;33m\u001b[0m\u001b[0m\n\u001b[0m",
      "\u001b[1;32m<ipython-input-21-95a82baa2d88>\u001b[0m in \u001b[0;36mvisualize_tree_grid_results\u001b[1;34m(tree_grid)\u001b[0m\n\u001b[0;32m     21\u001b[0m         \u001b[0mplt\u001b[0m\u001b[1;33m.\u001b[0m\u001b[0mplot\u001b[0m\u001b[1;33m(\u001b[0m\u001b[0mseparated_depths\u001b[0m\u001b[1;33m[\u001b[0m\u001b[0mcriterion\u001b[0m\u001b[1;33m]\u001b[0m\u001b[1;33m,\u001b[0m \u001b[0mseparated_scores\u001b[0m\u001b[1;33m[\u001b[0m\u001b[0mcriterion\u001b[0m\u001b[1;33m]\u001b[0m\u001b[1;33m)\u001b[0m\u001b[1;33m\u001b[0m\u001b[1;33m\u001b[0m\u001b[0m\n\u001b[0;32m     22\u001b[0m     \u001b[0mplt\u001b[0m\u001b[1;33m.\u001b[0m\u001b[0mlegend\u001b[0m\u001b[1;33m(\u001b[0m\u001b[0mseparated_depths\u001b[0m\u001b[1;33m.\u001b[0m\u001b[0mkeys\u001b[0m\u001b[1;33m(\u001b[0m\u001b[1;33m)\u001b[0m\u001b[1;33m)\u001b[0m\u001b[1;33m\u001b[0m\u001b[1;33m\u001b[0m\u001b[0m\n\u001b[1;32m---> 23\u001b[1;33m     \u001b[0mmatplotlib\u001b[0m\u001b[1;33m.\u001b[0m\u001b[0mpyplot\u001b[0m\u001b[1;33m.\u001b[0m\u001b[0mxlabel\u001b[0m\u001b[1;33m(\u001b[0m\u001b[1;34m'depth'\u001b[0m\u001b[1;33m)\u001b[0m\u001b[1;33m\u001b[0m\u001b[1;33m\u001b[0m\u001b[0m\n\u001b[0m\u001b[0;32m     24\u001b[0m     \u001b[0mmatplotlib\u001b[0m\u001b[1;33m.\u001b[0m\u001b[0mpyplot\u001b[0m\u001b[1;33m.\u001b[0m\u001b[0mylabel\u001b[0m\u001b[1;33m(\u001b[0m\u001b[1;34m'score'\u001b[0m\u001b[1;33m)\u001b[0m\u001b[1;33m\u001b[0m\u001b[1;33m\u001b[0m\u001b[0m\n",
      "\u001b[1;31mNameError\u001b[0m: name 'matplotlib' is not defined"
     ]
    },
    {
     "data": {
      "image/png": "[encoded data removed]",
      "text/plain": [
       "<Figure size 432x288 with 1 Axes>"
      ]
     },
     "metadata": {
      "needs_background": "light"
     },
     "output_type": "display_data"
    }
   ],
   "source": [
    "visualize_tree_grid_results(tree_grid)"
   ]
  },
  {
   "cell_type": "markdown",
   "metadata": {},
   "source": [
    "**Выберите верные утверждения:**\n",
    "1. Оптимальное значение `max_depth` для каждого критерия достигается на отрезке [4, 9]. +\n",
    "2. На отрезке [3, 10] построенные графики не пересекаются. +\n",
    "3. На отрезке [3, 10] построенные графики пересекаются ровно один раз. -\n",
    "4. Наилучшее качество при `max_depth` на интервале [3, 10] достигается при использовании критерия `gini`. -\n",
    "5. Хотя бы для одного из критериев значение accuracy строго возрастает с ростом значения `max_depth` на интервале [3, 10]. -?"
   ]
  },
  {
   "cell_type": "markdown",
   "metadata": {},
   "source": [
    "**Чему равны найденные оптимальные значения параметров max_depth и criterion?**\n",
    "1. max_depth = 7, criterion = 'gini';\n",
    "2. max_depth = 7, criterion = 'entropy';\n",
    "3. max_depth = 10, criterion = 'entropy';\n",
    "4. max_depth = 10, criterion = 'gini';\n",
    "5. max_depth = 9, criterion = 'entropy'; <---\n",
    "6. max_depth = 9, criterion = 'gini';"
   ]
  },
  {
   "cell_type": "markdown",
   "metadata": {},
   "source": [
    "Используя найденные оптимальные значения max_depth и criterion, обучите решающее дерево на X_train, y_train и вычислите вероятности принадлежности к классам для X_test."
   ]
  },
  {
   "cell_type": "code",
   "execution_count": null,
   "metadata": {},
   "outputs": [],
   "source": [
    "decisionTree = DecisionTree(max_depth = 9, criterion = 'entropy')\n",
    "decisionTree.fit(train_X, train_y)\n",
    "predicted = decisionTree.predict_proba(test_X)\n",
    "print(predicted, predicted.shape)\n",
    "print()\n",
    "\n",
    "predicted = np.mean(predicted, axis = 0)\n",
    "print(predicted, predicted.shape)\n",
    "print(np.max(predicted))"
   ]
  },
  {
   "cell_type": "markdown",
   "metadata": {},
   "source": [
    "Для полученной матрицы вычислите усредненные по всем объектам из `X_test` значения вероятностей принадлежности к классам."
   ]
  },
  {
   "cell_type": "markdown",
   "metadata": {},
   "source": [
    "**Вопрос:** Чему примерно равна максимальная вероятность в полученном векторе?\n",
    "1. 0.127 <---\n",
    "2. 0.118\n",
    "3. 1.0\n",
    "4. 0.09"
   ]
  },
  {
   "cell_type": "markdown",
   "metadata": {},
   "source": [
    "### Регрессия"
   ]
  },
  {
   "cell_type": "markdown",
   "metadata": {},
   "source": [
    "С помощью метода `load_boston` загрузите датасет `boston`. Разделите выборку на обучающую и тестовую с помощью метода `train_test_split`, используйте значения параметров `test_size=0.2`, `random_state=17`. Попробуйте обучить неглубокие регрессионные деревья и убедитесь, что критерии `variance` и `mad_median` дают разные результаты."
   ]
  },
  {
   "cell_type": "code",
   "execution_count": null,
   "metadata": {},
   "outputs": [],
   "source": [
    "X, y = load_boston(return_X_y = True)\n",
    "X = np.array(X)\n",
    "y = np.array(y)\n",
    "print(X, X.shape)\n",
    "print(y, y.shape)\n",
    "print()\n",
    "\n",
    "train_X, test_X, train_y, test_y = train_test_split(X, y, test_size = 0.2, random_state = 17)\n",
    "print(train_X, train_X.shape)\n",
    "print(test_X, test_X.shape)\n",
    "print()\n",
    "print(train_y, train_y.shape)\n",
    "print(test_y, test_y.shape)\n",
    "print()"
   ]
  },
  {
   "cell_type": "markdown",
   "metadata": {},
   "source": [
    "С помощью 5-кратной кросс-валидации подберите оптимальное значение параметров `max_depth` и `criterion`. Для параметра `max_depth` используйте диапазон значений - `range(2, 9)`, а для `criterion` - {'variance', 'mad_median'}. Критерий качества `scoring`='neg_mean_squared_error'."
   ]
  },
  {
   "cell_type": "code",
   "execution_count": null,
   "metadata": {},
   "outputs": [],
   "source": [
    "from sklearn.tree import DecisionTreeRegressor\n",
    "\n",
    "tree_params = {'max_depth': list(range(2, 9)), 'criterion': ['mse', 'mae']}\n",
    "\n",
    "decisionTree = DecisionTreeRegressor()\n",
    "tree_grid = GridSearchCV(decisionTree, tree_params, cv = 5, n_jobs = -1,\n",
    "                         verbose = True, scoring = 'neg_mean_squared_error')\n",
    "tree_grid.fit(train_X, train_y)\n",
    "print('best parameters: {0}'.format(tree_grid.best_params_))\n",
    "print('best score: {0}'.format(tree_grid.best_score_))\n",
    "\n",
    "\n",
    "tree_params = {'max_depth': list(range(2, 9)),\n",
    "               'criterion': ['variance', 'mad_median']}\n",
    "\n",
    "decisionTree = DecisionTree()\n",
    "tree_grid = GridSearchCV(decisionTree, tree_params, cv = 5, n_jobs = -1,\n",
    "                         verbose = True, scoring = 'neg_mean_squared_error')\n",
    "tree_grid.fit(train_X, train_y)\n",
    "print('best parameters: {0}'.format(tree_grid.best_params_))\n",
    "print('best score: {0}'.format(tree_grid.best_score_))"
   ]
  },
  {
   "cell_type": "markdown",
   "metadata": {},
   "source": [
    "Постройте графики средних значений критерия качества `neg_mean_squared_error` для критериев `variance` и `mad_median` в зависимости от `max_depth`."
   ]
  },
  {
   "cell_type": "code",
   "execution_count": null,
   "metadata": {},
   "outputs": [],
   "source": [
    "visualize_tree_grid_results(tree_grid)"
   ]
  },
  {
   "cell_type": "markdown",
   "metadata": {},
   "source": [
    "**Выберите верные утверждения:**\n",
    "1. На отрезке [2, 8] построенные графики не пересекаются. -\n",
    "2. На отрезке [2, 8] построенные графики пересекаются ровно один раз. +?\n",
    "3. Оптимальное значение `max_depth` для каждого из критериев достигается на границе отрезка [2, 8]. -\n",
    "4. Наилучшее качество при `max_depth` из [2, 8] достигается при использовании критерия `mad_median`. +"
   ]
  },
  {
   "cell_type": "markdown",
   "metadata": {},
   "source": [
    "**Чему равны найденные оптимальные значения параметров `max_depth` и `criterion`?**\n",
    "1. max_depth = 9, criterion = 'variance';\n",
    "2. max_depth = 5, criterion = 'mad_median';\n",
    "3. max_depth = 4, criterion = 'variance';\n",
    "4. max_depth = 2, criterion = 'mad_median';\n",
    "5. max_depth = 4, criterion = 'mad_median'; <---\n",
    "6. max_depth = 5, criterion = 'variance';"
   ]
  },
  {
   "cell_type": "code",
   "execution_count": null,
   "metadata": {},
   "outputs": [],
   "source": []
  },
  {
   "cell_type": "code",
   "execution_count": null,
   "metadata": {},
   "outputs": [],
   "source": []
  }
 ],
 "metadata": {
  "kernelspec": {
   "display_name": "Python 3",
   "language": "python",
   "name": "python3"
  },
  "language_info": {
   "codemirror_mode": {
    "name": "ipython",
    "version": 3
   },
   "file_extension": ".py",
   "mimetype": "text/x-python",
   "name": "python",
   "nbconvert_exporter": "python",
   "pygments_lexer": "ipython3",
   "version": "3.7.4"
  },
  "name": "lesson4_part2_Decision_trees.ipynb"
 },
 "nbformat": 4,
 "nbformat_minor": 1
}
