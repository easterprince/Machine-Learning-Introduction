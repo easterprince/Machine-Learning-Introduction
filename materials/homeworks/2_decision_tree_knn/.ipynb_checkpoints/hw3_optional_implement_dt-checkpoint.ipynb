{
 "cells": [
  {
   "cell_type": "markdown",
   "metadata": {},
   "source": [
    "Авторы материала: аспирант Мехмата МГУ Евгений Колмаков, программист-исследователь Mail.ru Group Юрий Кашницкий."
   ]
  },
  {
   "cell_type": "markdown",
   "metadata": {},
   "source": [
    "# <center>Домашнее задание № 3. Опциональная часть \n",
    "## <center> Реализация алгоритма построения дерева решений"
   ]
  },
  {
   "cell_type": "markdown",
   "metadata": {},
   "source": [
    "**Заполните код в клетках (где написано \"Ваш код здесь\") и ответьте на вопросы в [веб-форме](https://docs.google.com/forms/d/1k4jn-czjTL_6pnQD96N3kA0uSq3cCGHcfNdKpfICURA/edit?usp=sharing).**"
   ]
  },
  {
   "cell_type": "code",
   "execution_count": 1,
   "metadata": {},
   "outputs": [],
   "source": [
    "import numpy as np\n",
    "from matplotlib import pyplot as plt\n",
    "%matplotlib inline\n",
    "from sklearn.base import BaseEstimator\n",
    "from sklearn.datasets import make_classification, make_regression, load_digits, load_boston\n",
    "from sklearn.model_selection import train_test_split, GridSearchCV\n",
    "from sklearn.metrics import accuracy_score, mean_squared_error\n",
    "from collections import Counter"
   ]
  },
  {
   "cell_type": "markdown",
   "metadata": {},
   "source": [
    "Зафиксируем заранее `random_state` (a.k.a. random seed). Это должно повысить вероятность полной воспроизводимости результатов, впрочем, замечено, что тем не менее небольшие флуктуации возможны (например, качества прогнозов дерева, которое мы сейчас вырастим) в случае разных ОС."
   ]
  },
  {
   "cell_type": "code",
   "execution_count": 2,
   "metadata": {},
   "outputs": [],
   "source": [
    "RANDOM_STATE = 17"
   ]
  },
  {
   "cell_type": "markdown",
   "metadata": {
    "collapsed": true
   },
   "source": [
    "**Необходимо реализовать класс `DecisionTree`**\n",
    "\n",
    "**Спецификация:**\n",
    "- класс наследуется от `sklearn.BaseEstimator`;\n",
    "- конструктор содержит следующие параметры: \n",
    "    `max_depth` - максимальная глубина дерева (по умолчанию - `numpy.inf`); \n",
    "    `min_samples_split` - минимальное число объектов в вершине, при котором происходит её разбиение (по умолчанию - 2); \n",
    "    `criterion` - критерий разбиения (для классификации - 'gini' или 'entropy', для регрессии - 'variance' или 'mad_median'; \n",
    "    по умолчанию - 'gini');\n",
    "    \n",
    "    Функционал, значение которого максимизируется для поиска оптимального разбиения в данной вершине имеет вид\n",
    "    $$Q(X, j, t) = F(X) - \\dfrac{|X_l|}{|X|} F(X_l) - \\dfrac{|X_r|}{|X|} F(X_r),$$\n",
    "    где $X$ - выборка, находящаяся в текущей вершине, $X_l$ и $X_r$ - разбиение выборки $X$ на две части \n",
    "    по предикату $[x_j < t]$, а $F(X)$ -критерий разбиения.\n",
    "    \n",
    "    Для классификации: пусть $p_i$ - доля объектов $i$-го класса в выборке $X$.\n",
    "    \n",
    "    'gini': Неопределенность Джини $F(X) = 1 -\\sum_{i = 1}^K p_i^2$.\n",
    "    \n",
    "    'entropy': Энтропия $F(X) = -\\sum_{i = 1}^K p_i \\log_2(p_i)$.\n",
    "    \n",
    "    Для регрессии: $y_j = y(x_j)$ - ответ на объекте $x_j$, $y = (y_1, \\dots, y_{|X|})$ - вектор ответов.\n",
    "    \n",
    "    'variance': Дисперсия (среднее квадратичное отклонение от среднего) $F(X) = \\dfrac{1}{|X|} \\sum_{x_j \\in X}(y_j - \\dfrac{1}{|X|}\\sum_{x_i \\in X}y_i)^2$\n",
    "    \n",
    "    'mad_median': Среднее отклонение от медианы $F(X) = \\dfrac{1}{|X|} \\sum_{x_j \\in X}|y_j - \\mathrm{med}(y)|$\n",
    "    \n",
    "- класс имеет методы `fit`, `predict` и `predict_proba`;\n",
    "- метод `fit` принимает матрицу объектов `X` и вектор ответов `y` (объекты `numpy.ndarray`) и возвращает экземпляр класса\n",
    "    `DecisionTree`, представляющий собой решающее дерево, обученное по выборке `(X, y)` с учётом заданных в конструкторе параметров; \n",
    "- метод `predict_proba` принимает матрицу объектов `X` и возвращает матрицу `P` размера `X.shape[0] x K`, где `K` - число классов, такую что $p_{ij}$ есть вероятность принадлежности объекта, заданного $i$-ой строкой матрицы X к классу $j \\in \\{1, \\dots, K\\}$.\n",
    "- метод `predict` принимает матрицу объектов и возвращает вектор предсказанных ответов; в случае классификации - это \n",
    "    наиболее многочисленный класс в листе, в который попал объект, а в случае регрессии - среднее значение ответов по \n",
    "    всем объектам этого листа;"
   ]
  },
  {
   "cell_type": "code",
   "execution_count": 3,
   "metadata": {},
   "outputs": [],
   "source": [
    "from MyDecisionTree import DecisionTree"
   ]
  },
  {
   "cell_type": "code",
   "execution_count": 4,
   "metadata": {},
   "outputs": [
    {
     "name": "stdout",
     "output_type": "stream",
     "text": [
      "(28, 1)\n",
      "(28,)\n",
      "DecisionTree(criterion='variance', debug=None, max_depth=2, min_samples_split=2)\n"
     ]
    },
    {
     "data": {
      "text/plain": [
       "[<matplotlib.lines.Line2D at 0x1cbb1930808>,\n",
       " <matplotlib.lines.Line2D at 0x1cbb1930a88>]"
      ]
     },
     "execution_count": 4,
     "metadata": {},
     "output_type": "execute_result"
    },
    {
     "data": {
      "image/png": "[encoded data removed]",
      "text/plain": [
       "<Figure size 432x288 with 1 Axes>"
      ]
     },
     "metadata": {
      "needs_background": "light"
     },
     "output_type": "display_data"
    }
   ],
   "source": [
    "X = np.linspace(-2, 2, 7)\n",
    "X = np.sort(np.concatenate((X, X, X, X)))\n",
    "y = np.abs(X) ** 0.5\n",
    "X = X.reshape(-1, 1)\n",
    "print(X.shape)\n",
    "print(y.shape)\n",
    "\n",
    "decisionTree = DecisionTree(max_depth = 2, criterion = 'variance')\n",
    "decisionTree.fit(X, y)\n",
    "print(decisionTree)\n",
    "\n",
    "aaa = np.arange(-3, 3, 0.01).reshape((-1, 1))\n",
    "predicted = decisionTree.predict(aaa)\n",
    "\n",
    "plt.plot(X, y, 'g', aaa, predicted, 'r')"
   ]
  },
  {
   "cell_type": "markdown",
   "metadata": {},
   "source": [
    "## Тестирование реализованного алгоритма"
   ]
  },
  {
   "cell_type": "markdown",
   "metadata": {},
   "source": [
    "### Классификация"
   ]
  },
  {
   "cell_type": "markdown",
   "metadata": {},
   "source": [
    "С помощью метода `load_digits` загрузите датасет `digits`. Разделите выборку на обучающую и тестовую с помощью метода `train_test_split`, используйте значения параметров `test_size=0.2`, `random_state=17`. Попробуйте обучить неглубокие решающие деревья и убедитесь, что критерии gini и entropy дают разные результаты."
   ]
  },
  {
   "cell_type": "code",
   "execution_count": 12,
   "metadata": {},
   "outputs": [
    {
     "name": "stdout",
     "output_type": "stream",
     "text": [
      "[[ 0.  0.  5. ...  0.  0.  0.]\n",
      " [ 0.  0.  0. ... 10.  0.  0.]\n",
      " [ 0.  0.  0. ... 16.  9.  0.]\n",
      " ...\n",
      " [ 0.  0.  1. ...  6.  0.  0.]\n",
      " [ 0.  0.  2. ... 12.  0.  0.]\n",
      " [ 0.  0. 10. ... 12.  1.  0.]] (1797, 64)\n",
      "[0 1 2 ... 8 9 8] (1797,)\n",
      "\n",
      "[[ 0.  0.  3. ... 16.  2.  0.]\n",
      " [ 0.  0.  6. ...  0.  0.  0.]\n",
      " [ 0.  1.  7. ...  0.  0.  0.]\n",
      " ...\n",
      " [ 0.  6. 16. ... 11.  1.  0.]\n",
      " [ 0.  1.  8. ...  0.  0.  0.]\n",
      " [ 0.  0.  0. ... 16. 16. 16.]] (1437, 64)\n",
      "[[ 0.  0.  0. ...  6.  0.  0.]\n",
      " [ 0.  0.  0. ... 14.  4.  0.]\n",
      " [ 0.  0.  5. ...  0.  0.  0.]\n",
      " ...\n",
      " [ 0.  0.  2. ... 15.  4.  0.]\n",
      " [ 0.  0.  4. ...  6.  0.  0.]\n",
      " [ 0.  0. 13. ...  0.  0.  0.]] (360, 64)\n",
      "\n",
      "[1 9 5 ... 3 7 1] (1437,)\n",
      "[1 2 7 3 9 5 8 9 8 1 4 3 5 0 9 9 5 3 9 6 6 3 6 4 6 2 6 7 3 1 8 4 1 1 0 2 3\n",
      " 5 5 5 5 6 0 5 3 5 1 8 2 9 9 4 0 8 8 1 1 1 0 4 1 2 0 7 9 8 8 6 0 8 8 3 4 6\n",
      " 4 3 2 3 9 7 5 8 3 5 1 8 9 5 4 7 7 8 3 0 2 7 9 9 4 0 5 6 4 0 1 3 3 1 8 7 4\n",
      " 2 5 5 3 9 6 4 2 7 4 1 8 5 1 5 8 6 5 5 4 9 4 2 7 8 4 4 4 9 7 1 9 9 2 0 0 3\n",
      " 5 8 1 9 5 3 6 8 7 4 6 1 9 7 6 4 0 9 4 3 0 9 8 5 5 4 2 1 5 1 6 9 2 2 9 9 0\n",
      " 4 4 7 0 1 5 8 2 9 9 6 0 3 9 5 6 3 9 6 2 4 7 3 0 6 9 2 8 0 3 5 8 5 9 9 2 7\n",
      " 0 6 9 0 5 1 4 5 3 0 9 2 5 1 4 2 8 0 8 1 3 3 3 6 2 1 9 9 0 4 5 2 8 3 1 7 5\n",
      " 1 4 9 1 2 2 0 4 2 0 3 8 7 3 3 9 3 7 6 4 8 3 7 1 6 4 2 3 7 5 6 4 3 7 6 7 1\n",
      " 1 7 9 6 3 1 2 5 8 4 0 7 4 0 3 6 5 7 7 1 8 0 8 3 4 4 2 7 4 1 5 2 0 8 2 7 8\n",
      " 7 0 0 6 2 2 8 6 5 6 9 5 8 4 3 9 2 5 0 2 5 6 8 4 6 0 7] (360,)\n",
      "\n"
     ]
    }
   ],
   "source": [
    "X, y = load_digits(return_X_y = True)\n",
    "X = np.array(X)\n",
    "y = np.array(y)\n",
    "print(X, X.shape)\n",
    "print(y, y.shape)\n",
    "print()\n",
    "\n",
    "train_X, test_X, train_y, test_y = train_test_split(X, y, test_size = 0.2, random_state = 17)\n",
    "print(train_X, train_X.shape)\n",
    "print(test_X, test_X.shape)\n",
    "print()\n",
    "print(train_y, train_y.shape)\n",
    "print(test_y, test_y.shape)\n",
    "print()"
   ]
  },
  {
   "cell_type": "code",
   "execution_count": 15,
   "metadata": {},
   "outputs": [
    {
     "name": "stdout",
     "output_type": "stream",
     "text": [
      "2.6629996299743652\n",
      "0.005919933319091797\n",
      "0.007191896438598633\n"
     ]
    }
   ],
   "source": [
    "import time\n",
    "\n",
    "start = time.time()\n",
    "decisionTree = DecisionTree(max_depth = 11, criterion = 'entropy')\n",
    "decisionTree.fit(train_X, train_y)\n",
    "end = time.time()\n",
    "print(end - start)\n",
    "\n",
    "start = time.time()\n",
    "decisionTree.predict(test_X)\n",
    "end = time.time()\n",
    "print(end - start)\n",
    "\n",
    "start = time.time()\n",
    "decisionTree.predict_proba(test_X)\n",
    "end = time.time()\n",
    "print(end - start)"
   ]
  },
  {
   "cell_type": "markdown",
   "metadata": {},
   "source": [
    "С помощью 5-кратной кросс-валидации (`GridSearchCV`) подберите оптимальное значение параметров `max_depth` и `criterion`. Для параметра `max_depth` используйте диапазон значений - range(3, 11), а для criterion - {'gini', 'entropy'}. Критерий качества `scoring`='accuracy'."
   ]
  },
  {
   "cell_type": "code",
   "execution_count": 6,
   "metadata": {},
   "outputs": [
    {
     "name": "stdout",
     "output_type": "stream",
     "text": [
      "Fitting 5 folds for each of 16 candidates, totalling 80 fits\n"
     ]
    },
    {
     "name": "stderr",
     "output_type": "stream",
     "text": [
      "[Parallel(n_jobs=-1)]: Using backend LokyBackend with 4 concurrent workers.\n",
      "[Parallel(n_jobs=-1)]: Done  80 out of  80 | elapsed:    3.1s finished\n",
      "C:\\ProgramData\\Anaconda3\\lib\\site-packages\\sklearn\\model_selection\\_search.py:814: DeprecationWarning: The default of the `iid` parameter will change from True to False in version 0.22 and will be removed in 0.24. This will change numeric results when test-set sizes are unequal.\n",
      "  DeprecationWarning)\n",
      "[Parallel(n_jobs=-1)]: Using backend LokyBackend with 4 concurrent workers.\n"
     ]
    },
    {
     "name": "stdout",
     "output_type": "stream",
     "text": [
      "best parameters: {'criterion': 'entropy', 'max_depth': 9}\n",
      "best score: 0.8615170494084899\n",
      "Fitting 5 folds for each of 16 candidates, totalling 80 fits\n"
     ]
    },
    {
     "name": "stderr",
     "output_type": "stream",
     "text": [
      "[Parallel(n_jobs=-1)]: Done  42 tasks      | elapsed:   16.2s\n",
      "[Parallel(n_jobs=-1)]: Done  80 out of  80 | elapsed:  1.0min finished\n",
      "D:\\Programming\\Repositories\\Machine-Learning-Introduction\\materials\\homeworks\\2_decision_tree_knn\\MyDecisionTree.py:98: RuntimeWarning: divide by zero encountered in log2\n",
      "  logs = np.log2(np.arange(y.shape[0] + 1))\n"
     ]
    },
    {
     "name": "stdout",
     "output_type": "stream",
     "text": [
      "best parameters: {'criterion': 'entropy', 'max_depth': 8}\n",
      "best score: 0.8636047320807237\n"
     ]
    }
   ],
   "source": [
    "from sklearn.tree import DecisionTreeClassifier\n",
    "\n",
    "tree_params = {'max_depth': list(range(3, 11)), 'criterion': ['gini', 'entropy']}\n",
    "\n",
    "decisionTree = DecisionTreeClassifier()\n",
    "tree_grid = GridSearchCV(decisionTree, tree_params, cv = 5, n_jobs = -1,\n",
    "                         verbose = True, scoring = 'accuracy')\n",
    "tree_grid.fit(train_X, train_y)\n",
    "print('best parameters: {0}'.format(tree_grid.best_params_))\n",
    "print('best score: {0}'.format(tree_grid.best_score_))\n",
    "\n",
    "\n",
    "decisionTree = DecisionTree()\n",
    "tree_grid = GridSearchCV(decisionTree, tree_params, cv = 5, n_jobs = -1,\n",
    "                         verbose = True, scoring = 'accuracy')\n",
    "tree_grid.fit(train_X, train_y)\n",
    "print('best parameters: {0}'.format(tree_grid.best_params_))\n",
    "print('best score: {0}'.format(tree_grid.best_score_))"
   ]
  },
  {
   "cell_type": "markdown",
   "metadata": {},
   "source": [
    "Постройте графики средних значений критерия качества `accuracy` для критериев `gini` и `entropy` в зависимости от `max_depth`."
   ]
  },
  {
   "cell_type": "code",
   "execution_count": 7,
   "metadata": {},
   "outputs": [
    {
     "name": "stdout",
     "output_type": "stream",
     "text": [
      "gini 0.46764091858037576\n",
      "entropy 0.523312456506611\n"
     ]
    },
    {
     "data": {
      "image/png": "[encoded data removed]",
      "text/plain": [
       "<Figure size 432x288 with 1 Axes>"
      ]
     },
     "metadata": {
      "needs_background": "light"
     },
     "output_type": "display_data"
    }
   ],
   "source": [
    "def visualize_tree_grid_results(tree_grid):\n",
    "    depths = [params['max_depth'] for params in tree_grid.cv_results_['params']]\n",
    "    criterions = [params['criterion'] for params in tree_grid.cv_results_['params']]\n",
    "    scores = np.array(tree_grid.cv_results_['mean_test_score'])\n",
    "\n",
    "    separated_depths = {}\n",
    "    separated_scores = {}\n",
    "    for depth, criterion, score in zip(depths, criterions, scores):\n",
    "        if criterion not in separated_depths:\n",
    "            separated_depths[criterion] = list()\n",
    "            separated_scores[criterion] = list()\n",
    "        separated_depths[criterion].append(depth)\n",
    "        separated_scores[criterion].append(score)\n",
    "    for criterion in separated_depths:\n",
    "        rearrange = np.argsort(separated_depths[criterion])\n",
    "        separated_depths[criterion] = np.array(separated_depths[criterion])[rearrange]\n",
    "        separated_scores[criterion] = np.array(separated_scores[criterion])[rearrange]\n",
    "\n",
    "    for criterion in separated_depths:\n",
    "        print(criterion, separated_scores[criterion][0])\n",
    "        plt.plot(separated_depths[criterion], separated_scores[criterion])\n",
    "    plt.legend(separated_depths.keys())\n",
    "    \n",
    "visualize_tree_grid_results(tree_grid)"
   ]
  },
  {
   "cell_type": "markdown",
   "metadata": {},
   "source": [
    "**Выберите верные утверждения:**\n",
    "1. Оптимальное значение `max_depth` для каждого критерия достигается на отрезке [4, 9]. +\n",
    "2. На отрезке [3, 10] построенные графики не пересекаются. +\n",
    "3. На отрезке [3, 10] построенные графики пересекаются ровно один раз. -\n",
    "4. Наилучшее качество при `max_depth` на интервале [3, 10] достигается при использовании критерия `gini`. -\n",
    "5. Хотя бы для одного из критериев значение accuracy строго возрастает с ростом значения `max_depth` на интервале [3, 10]. ?"
   ]
  },
  {
   "cell_type": "markdown",
   "metadata": {},
   "source": [
    "**Чему равны найденные оптимальные значения параметров max_depth и criterion?**\n",
    "1. max_depth = 7, criterion = 'gini';\n",
    "2. max_depth = 7, criterion = 'entropy';\n",
    "3. max_depth = 10, criterion = 'entropy';\n",
    "4. max_depth = 10, criterion = 'gini';\n",
    "5. max_depth = 9, criterion = 'entropy'; <---\n",
    "6. max_depth = 9, criterion = 'gini';"
   ]
  },
  {
   "cell_type": "markdown",
   "metadata": {},
   "source": [
    "Используя найденные оптимальные значения max_depth и criterion, обучите решающее дерево на X_train, y_train и вычислите вероятности принадлежности к классам для X_test."
   ]
  },
  {
   "cell_type": "code",
   "execution_count": 8,
   "metadata": {},
   "outputs": [
    {
     "name": "stdout",
     "output_type": "stream",
     "text": [
      "[[0.         0.95652174 0.         ... 0.         0.04347826 0.        ]\n",
      " [0.         0.         0.         ... 0.         1.         0.        ]\n",
      " [0.         0.         0.         ... 1.         0.         0.        ]\n",
      " ...\n",
      " [0.         0.         0.         ... 0.         0.         0.        ]\n",
      " [1.         0.         0.         ... 0.         0.         0.        ]\n",
      " [0.         0.         0.         ... 1.         0.         0.        ]] (360, 10)\n",
      "\n",
      "[0.09166667 0.06986715 0.10648148 0.08981481 0.125      0.12083333\n",
      " 0.07777778 0.09398148 0.11022544 0.11435185] (10,)\n",
      "0.125\n"
     ]
    }
   ],
   "source": [
    "decisionTree = DecisionTree(max_depth = 9, criterion = 'entropy')\n",
    "decisionTree.fit(train_X, train_y)\n",
    "predicted = decisionTree.predict_proba(test_X)\n",
    "print(predicted, predicted.shape)\n",
    "print()\n",
    "\n",
    "predicted = np.mean(predicted, axis = 0)\n",
    "print(predicted, predicted.shape)\n",
    "print(np.max(predicted))"
   ]
  },
  {
   "cell_type": "markdown",
   "metadata": {},
   "source": [
    "Для полученной матрицы вычислите усредненные по всем объектам из `X_test` значения вероятностей принадлежности к классам."
   ]
  },
  {
   "cell_type": "markdown",
   "metadata": {},
   "source": [
    "**Вопрос:** Чему примерно равна максимальная вероятность в полученном векторе?\n",
    "1. 0.127 <---\n",
    "2. 0.118\n",
    "3. 1.0\n",
    "4. 0.09"
   ]
  },
  {
   "cell_type": "markdown",
   "metadata": {},
   "source": [
    "### Регрессия"
   ]
  },
  {
   "cell_type": "markdown",
   "metadata": {},
   "source": [
    "С помощью метода `load_boston` загрузите датасет `boston`. Разделите выборку на обучающую и тестовую с помощью метода `train_test_split`, используйте значения параметров `test_size=0.2`, `random_state=17`. Попробуйте обучить неглубокие регрессионные деревья и убедитесь, что критерии `variance` и `mad_median` дают разные результаты."
   ]
  },
  {
   "cell_type": "code",
   "execution_count": 9,
   "metadata": {},
   "outputs": [
    {
     "name": "stdout",
     "output_type": "stream",
     "text": [
      "[[6.3200e-03 1.8000e+01 2.3100e+00 ... 1.5300e+01 3.9690e+02 4.9800e+00]\n",
      " [2.7310e-02 0.0000e+00 7.0700e+00 ... 1.7800e+01 3.9690e+02 9.1400e+00]\n",
      " [2.7290e-02 0.0000e+00 7.0700e+00 ... 1.7800e+01 3.9283e+02 4.0300e+00]\n",
      " ...\n",
      " [6.0760e-02 0.0000e+00 1.1930e+01 ... 2.1000e+01 3.9690e+02 5.6400e+00]\n",
      " [1.0959e-01 0.0000e+00 1.1930e+01 ... 2.1000e+01 3.9345e+02 6.4800e+00]\n",
      " [4.7410e-02 0.0000e+00 1.1930e+01 ... 2.1000e+01 3.9690e+02 7.8800e+00]] (506, 13)\n",
      "[24.  21.6 34.7 33.4 36.2 28.7 22.9 27.1 16.5 18.9 15.  18.9 21.7 20.4\n",
      " 18.2 19.9 23.1 17.5 20.2 18.2 13.6 19.6 15.2 14.5 15.6 13.9 16.6 14.8\n",
      " 18.4 21.  12.7 14.5 13.2 13.1 13.5 18.9 20.  21.  24.7 30.8 34.9 26.6\n",
      " 25.3 24.7 21.2 19.3 20.  16.6 14.4 19.4 19.7 20.5 25.  23.4 18.9 35.4\n",
      " 24.7 31.6 23.3 19.6 18.7 16.  22.2 25.  33.  23.5 19.4 22.  17.4 20.9\n",
      " 24.2 21.7 22.8 23.4 24.1 21.4 20.  20.8 21.2 20.3 28.  23.9 24.8 22.9\n",
      " 23.9 26.6 22.5 22.2 23.6 28.7 22.6 22.  22.9 25.  20.6 28.4 21.4 38.7\n",
      " 43.8 33.2 27.5 26.5 18.6 19.3 20.1 19.5 19.5 20.4 19.8 19.4 21.7 22.8\n",
      " 18.8 18.7 18.5 18.3 21.2 19.2 20.4 19.3 22.  20.3 20.5 17.3 18.8 21.4\n",
      " 15.7 16.2 18.  14.3 19.2 19.6 23.  18.4 15.6 18.1 17.4 17.1 13.3 17.8\n",
      " 14.  14.4 13.4 15.6 11.8 13.8 15.6 14.6 17.8 15.4 21.5 19.6 15.3 19.4\n",
      " 17.  15.6 13.1 41.3 24.3 23.3 27.  50.  50.  50.  22.7 25.  50.  23.8\n",
      " 23.8 22.3 17.4 19.1 23.1 23.6 22.6 29.4 23.2 24.6 29.9 37.2 39.8 36.2\n",
      " 37.9 32.5 26.4 29.6 50.  32.  29.8 34.9 37.  30.5 36.4 31.1 29.1 50.\n",
      " 33.3 30.3 34.6 34.9 32.9 24.1 42.3 48.5 50.  22.6 24.4 22.5 24.4 20.\n",
      " 21.7 19.3 22.4 28.1 23.7 25.  23.3 28.7 21.5 23.  26.7 21.7 27.5 30.1\n",
      " 44.8 50.  37.6 31.6 46.7 31.5 24.3 31.7 41.7 48.3 29.  24.  25.1 31.5\n",
      " 23.7 23.3 22.  20.1 22.2 23.7 17.6 18.5 24.3 20.5 24.5 26.2 24.4 24.8\n",
      " 29.6 42.8 21.9 20.9 44.  50.  36.  30.1 33.8 43.1 48.8 31.  36.5 22.8\n",
      " 30.7 50.  43.5 20.7 21.1 25.2 24.4 35.2 32.4 32.  33.2 33.1 29.1 35.1\n",
      " 45.4 35.4 46.  50.  32.2 22.  20.1 23.2 22.3 24.8 28.5 37.3 27.9 23.9\n",
      " 21.7 28.6 27.1 20.3 22.5 29.  24.8 22.  26.4 33.1 36.1 28.4 33.4 28.2\n",
      " 22.8 20.3 16.1 22.1 19.4 21.6 23.8 16.2 17.8 19.8 23.1 21.  23.8 23.1\n",
      " 20.4 18.5 25.  24.6 23.  22.2 19.3 22.6 19.8 17.1 19.4 22.2 20.7 21.1\n",
      " 19.5 18.5 20.6 19.  18.7 32.7 16.5 23.9 31.2 17.5 17.2 23.1 24.5 26.6\n",
      " 22.9 24.1 18.6 30.1 18.2 20.6 17.8 21.7 22.7 22.6 25.  19.9 20.8 16.8\n",
      " 21.9 27.5 21.9 23.1 50.  50.  50.  50.  50.  13.8 13.8 15.  13.9 13.3\n",
      " 13.1 10.2 10.4 10.9 11.3 12.3  8.8  7.2 10.5  7.4 10.2 11.5 15.1 23.2\n",
      "  9.7 13.8 12.7 13.1 12.5  8.5  5.   6.3  5.6  7.2 12.1  8.3  8.5  5.\n",
      " 11.9 27.9 17.2 27.5 15.  17.2 17.9 16.3  7.   7.2  7.5 10.4  8.8  8.4\n",
      " 16.7 14.2 20.8 13.4 11.7  8.3 10.2 10.9 11.   9.5 14.5 14.1 16.1 14.3\n",
      " 11.7 13.4  9.6  8.7  8.4 12.8 10.5 17.1 18.4 15.4 10.8 11.8 14.9 12.6\n",
      " 14.1 13.  13.4 15.2 16.1 17.8 14.9 14.1 12.7 13.5 14.9 20.  16.4 17.7\n",
      " 19.5 20.2 21.4 19.9 19.  19.1 19.1 20.1 19.9 19.6 23.2 29.8 13.8 13.3\n",
      " 16.7 12.  14.6 21.4 23.  23.7 25.  21.8 20.6 21.2 19.1 20.6 15.2  7.\n",
      "  8.1 13.6 20.1 21.8 24.5 23.1 19.7 18.3 21.2 17.5 16.8 22.4 20.6 23.9\n",
      " 22.  11.9] (506,)\n",
      "\n",
      "[[7.35341e+01 0.00000e+00 1.81000e+01 ... 2.02000e+01 1.64500e+01\n",
      "  2.06200e+01]\n",
      " [2.00900e-02 9.50000e+01 2.68000e+00 ... 1.47000e+01 3.90550e+02\n",
      "  2.88000e+00]\n",
      " [5.51500e-02 3.30000e+01 2.18000e+00 ... 1.84000e+01 3.93680e+02\n",
      "  6.93000e+00]\n",
      " ...\n",
      " [4.09740e+00 0.00000e+00 1.95800e+01 ... 1.47000e+01 3.96900e+02\n",
      "  2.64200e+01]\n",
      " [1.06120e-01 3.00000e+01 4.93000e+00 ... 1.66000e+01 3.94620e+02\n",
      "  1.24000e+01]\n",
      " [1.00840e-01 0.00000e+00 1.00100e+01 ... 1.78000e+01 3.95590e+02\n",
      "  1.01600e+01]] (404, 13)\n",
      "[[6.91100e-02 4.50000e+01 3.44000e+00 ... 1.52000e+01 3.89710e+02\n",
      "  4.69000e+00]\n",
      " [1.09600e-02 5.50000e+01 2.25000e+00 ... 1.53000e+01 3.94720e+02\n",
      "  8.23000e+00]\n",
      " [3.69311e+00 0.00000e+00 1.81000e+01 ... 2.02000e+01 3.91430e+02\n",
      "  1.46500e+01]\n",
      " ...\n",
      " [4.33700e-02 2.10000e+01 5.64000e+00 ... 1.68000e+01 3.93970e+02\n",
      "  9.43000e+00]\n",
      " [1.35540e-01 1.25000e+01 6.07000e+00 ... 1.89000e+01 3.96900e+02\n",
      "  1.30900e+01]\n",
      " [4.59000e-02 5.25000e+01 5.32000e+00 ... 1.66000e+01 3.96900e+02\n",
      "  7.60000e+00]] (102, 13)\n",
      "\n",
      "[ 8.8 50.  36.1 14.6 41.7 32.2 19.4 20.8 24.8 20.6 15.4 13.9 18.7 28.\n",
      " 20.5 23.9 13.8 17.  11.8 32.4 23.1 43.5 19.5 45.4 21.4 24.8 16.8 13.1\n",
      " 25.1 32.  20.6 23.8 18.8 48.5 18.4 12.7 20.3 22.3 33.  22.2 18.4 13.8\n",
      " 18.7 18.8 11.9 21.2 34.9 33.4 17.8 22.5 15.  20.  21.5 36.2 14.1 29.8\n",
      " 19.3 22.2 20.  17.2 19.8 24.8 10.4 50.  22.6 25.  23.7 18.9 15.2 26.5\n",
      " 18.3 24.  22.4 19.5 27.5 50.  16.3 18.2 23.8 17.8 23.8 23.1 19.3 16.7\n",
      " 12.1 13.6 22.5 22.6 21.7 13.1  9.6 27.5 23.3 11.7 16.  18.1 19.8 21.4\n",
      " 44.  22.9 27.1 13.3 12.7 17.9 16.1 21.7 18.5 19.1 22.9 21.9 21.9 31.\n",
      " 23.1 23.5 31.2 10.9 32.9 10.5  7.  21.8 21.  23.2 15.4  7.  50.  19.9\n",
      " 23.4 13.1 20.4 19.4 22.2 27.5 13.1 50.  12.8 24.4 30.3 28.5 24.7 34.9\n",
      " 30.1 25.  18.6 16.5 23.9 20.7 21.2 21.2 15.6 24.3  7.5 17.1 20.  14.9\n",
      " 17.5  5.  19.4 14.5 16.6 23.6 24.4 50.  33.3 14.6 24.  18.  23.  19.1\n",
      " 28.6  5.  17.8  8.5 17.8 14.5 12.  14.  19.3 29.6 13.9 16.1 18.5 26.6\n",
      " 22.8 34.6 15.2 20.9 23.8 22.6 25.  22.7 18.5 32.  43.8 14.1 19.7 20.8\n",
      "  5.6 32.7 13.5 29.4 33.8 28.7 17.3 19.2 15.3 21.4 10.4 22.6 15.2 27.5\n",
      " 12.5 36.5 19.4 23.3 17.2 10.2 26.6 22.2 18.4 26.4 21.5 15.7 23.1 22.9\n",
      " 31.7 16.2 19.3 31.6 22.   7.2 21.6 18.2 24.5 50.  19.9 46.  15.6 14.2\n",
      "  8.1 21.7 21.4 29.  24.3 17.4 20.2 22.6 19.6 35.4 20.3  8.3 50.  22.\n",
      " 31.1 26.7 21.2 26.2 27.  41.3 20.6 19.9 28.7 48.3 27.9 20.8 21.1 11.3\n",
      " 50.  20.4 50.  17.6  8.5 22.1 14.1 18.3 50.   7.2 33.1 35.1 24.4 24.5\n",
      " 19.4 24.3  6.3 17.2 11.7 19.5 22.8 22.  29.1 34.9 10.2 44.8 12.3 14.3\n",
      " 29.9 19.1 15.  50.  15.6 21.1 23.1 37.3 24.7 23.1 10.8 42.8 19.3 23.7\n",
      " 20.1 33.1 24.8 16.2 20.6 20.1 24.1 21.8 15.  28.7 22.4 16.8 35.4 13.8\n",
      " 21.7 19.6 20.1 23.2 19.5 14.9 37.2  8.4 14.8 20.  46.7 25.2 13.8 33.2\n",
      " 36.4 22.8 24.6 28.4 19.  42.3 21.7 17.1 10.5 22.  16.6 25.  10.2 16.4\n",
      " 13.4 16.5 20.2 18.7 19.4 33.4 19.  29.  50.  24.7 14.4 13.3  8.4 21.2\n",
      " 34.7 21.4 11.5 19.8 13.2 14.3 31.5 31.5 35.2 12.7 29.6 20.3 23.  50.\n",
      " 13.3 48.8 21.  19.6 25.  30.7 26.4 26.6 17.5 23.7  7.2 27.1 11.  19.1\n",
      " 30.8 25.  14.5 29.1  9.5 22.  21.6 11.9 15.1 15.6 20.1 22.8] (404,)\n",
      "[30.5 22.  17.7 50.  23.3 19.9 37.6 23.3  8.8 32.5 20.  20.5 22.7 13.4\n",
      " 20.9 20.3 23.4 10.9 18.9 18.2 28.2 23.6 17.4 16.7 24.6 39.8 14.9  9.7\n",
      " 17.8 23.9 28.1 17.1 22.2 21.7 24.1 14.4 30.1  8.3 20.4 38.7  8.7 20.1\n",
      " 36.2 22.9 19.2 13.5 33.2 22.  21.  12.6 23.9 16.1 28.4 25.  18.5 15.6\n",
      " 22.5 23.2 43.1 23.9 23.  23.2 18.9 23.  13.4 24.2 24.4 29.8 31.6 20.6\n",
      " 37.  19.6 24.5 36.  11.8 24.1 25.3 30.1 50.  23.1 13.4 37.9 19.7 23.7\n",
      " 25.  20.6 20.4 13.8 20.7  7.4 21.7 13.  17.5 27.9 21.9 19.6 18.6 18.9\n",
      " 13.6 20.5 17.4 22.3] (102,)\n",
      "\n"
     ]
    }
   ],
   "source": [
    "X, y = load_boston(return_X_y = True)\n",
    "X = np.array(X)\n",
    "y = np.array(y)\n",
    "print(X, X.shape)\n",
    "print(y, y.shape)\n",
    "print()\n",
    "\n",
    "train_X, test_X, train_y, test_y = train_test_split(X, y, test_size = 0.2, random_state = 17)\n",
    "print(train_X, train_X.shape)\n",
    "print(test_X, test_X.shape)\n",
    "print()\n",
    "print(train_y, train_y.shape)\n",
    "print(test_y, test_y.shape)\n",
    "print()"
   ]
  },
  {
   "cell_type": "markdown",
   "metadata": {},
   "source": [
    "С помощью 5-кратной кросс-валидации подберите оптимальное значение параметров `max_depth` и `criterion`. Для параметра `max_depth` используйте диапазон значений - `range(2, 9)`, а для `criterion` - {'variance', 'mad_median'}. Критерий качества `scoring`='neg_mean_squared_error'."
   ]
  },
  {
   "cell_type": "code",
   "execution_count": 10,
   "metadata": {},
   "outputs": [
    {
     "name": "stdout",
     "output_type": "stream",
     "text": [
      "Fitting 5 folds for each of 14 candidates, totalling 70 fits\n"
     ]
    },
    {
     "name": "stderr",
     "output_type": "stream",
     "text": [
      "[Parallel(n_jobs=-1)]: Using backend LokyBackend with 4 concurrent workers.\n",
      "[Parallel(n_jobs=-1)]: Done  70 out of  70 | elapsed:    0.2s finished\n",
      "C:\\ProgramData\\Anaconda3\\lib\\site-packages\\sklearn\\model_selection\\_search.py:814: DeprecationWarning: The default of the `iid` parameter will change from True to False in version 0.22 and will be removed in 0.24. This will change numeric results when test-set sizes are unequal.\n",
      "  DeprecationWarning)\n",
      "[Parallel(n_jobs=-1)]: Using backend LokyBackend with 4 concurrent workers.\n"
     ]
    },
    {
     "name": "stdout",
     "output_type": "stream",
     "text": [
      "best parameters: {'criterion': 'mse', 'max_depth': 6}\n",
      "best score: -21.03457831028523\n",
      "Fitting 5 folds for each of 14 candidates, totalling 70 fits\n"
     ]
    },
    {
     "name": "stderr",
     "output_type": "stream",
     "text": [
      "[Parallel(n_jobs=-1)]: Done  70 out of  70 | elapsed:    3.6s finished\n",
      "C:\\ProgramData\\Anaconda3\\lib\\site-packages\\sklearn\\model_selection\\_search.py:814: DeprecationWarning: The default of the `iid` parameter will change from True to False in version 0.22 and will be removed in 0.24. This will change numeric results when test-set sizes are unequal.\n",
      "  DeprecationWarning)\n"
     ]
    },
    {
     "name": "stdout",
     "output_type": "stream",
     "text": [
      "best parameters: {'criterion': 'mad_median', 'max_depth': 4}\n",
      "best score: -20.49824932873224\n"
     ]
    }
   ],
   "source": [
    "from sklearn.tree import DecisionTreeRegressor\n",
    "\n",
    "tree_params = {'max_depth': list(range(2, 9)), 'criterion': ['mse', 'mae']}\n",
    "\n",
    "decisionTree = DecisionTreeRegressor()\n",
    "tree_grid = GridSearchCV(decisionTree, tree_params, cv = 5, n_jobs = -1,\n",
    "                         verbose = True, scoring = 'neg_mean_squared_error')\n",
    "tree_grid.fit(train_X, train_y)\n",
    "print('best parameters: {0}'.format(tree_grid.best_params_))\n",
    "print('best score: {0}'.format(tree_grid.best_score_))\n",
    "\n",
    "\n",
    "tree_params = {'max_depth': list(range(2, 9)), 'criterion': ['variance', 'mad_median']}\n",
    "\n",
    "decisionTree = DecisionTree()\n",
    "tree_grid = GridSearchCV(decisionTree, tree_params, cv = 5, n_jobs = -1,\n",
    "                         verbose = True, scoring = 'neg_mean_squared_error')\n",
    "tree_grid.fit(train_X, train_y)\n",
    "print('best parameters: {0}'.format(tree_grid.best_params_))\n",
    "print('best score: {0}'.format(tree_grid.best_score_))"
   ]
  },
  {
   "cell_type": "markdown",
   "metadata": {},
   "source": [
    "Постройте графики средних значений критерия качества `neg_mean_squared_error` для критериев `variance` и `mad_median` в зависимости от `max_depth`."
   ]
  },
  {
   "cell_type": "code",
   "execution_count": 11,
   "metadata": {},
   "outputs": [
    {
     "name": "stdout",
     "output_type": "stream",
     "text": [
      "variance -32.54446911516344\n",
      "mad_median -32.53603409983818\n"
     ]
    },
    {
     "data": {
      "image/png": "[encoded data removed]",
      "text/plain": [
       "<Figure size 432x288 with 1 Axes>"
      ]
     },
     "metadata": {
      "needs_background": "light"
     },
     "output_type": "display_data"
    }
   ],
   "source": [
    "visualize_tree_grid_results(tree_grid)"
   ]
  },
  {
   "cell_type": "markdown",
   "metadata": {},
   "source": [
    "**Выберите верные утверждения:**\n",
    "1. На отрезке [2, 8] построенные графики не пересекаются. -\n",
    "2. На отрезке [2, 8] построенные графики пересекаются ровно один раз. ?\n",
    "3. Оптимальное значение `max_depth` для каждого из критериев достигается на границе отрезка [2, 8]. -\n",
    "4. Наилучшее качество при `max_depth` из [2, 8] достигается при использовании критерия `mad_median`. -"
   ]
  },
  {
   "cell_type": "markdown",
   "metadata": {},
   "source": [
    "**Чему равны найденные оптимальные значения параметров `max_depth` и `criterion`?**\n",
    "1. max_depth = 9, criterion = 'variance';\n",
    "2. max_depth = 5, criterion = 'mad_median';\n",
    "3. max_depth = 4, criterion = 'variance';\n",
    "4. max_depth = 2, criterion = 'mad_median';\n",
    "5. max_depth = 4, criterion = 'mad_median';\n",
    "6. max_depth = 5, criterion = 'variance'; <---"
   ]
  },
  {
   "cell_type": "code",
   "execution_count": null,
   "metadata": {},
   "outputs": [],
   "source": []
  },
  {
   "cell_type": "code",
   "execution_count": null,
   "metadata": {},
   "outputs": [],
   "source": []
  }
 ],
 "metadata": {
  "kernelspec": {
   "display_name": "Python 3",
   "language": "python",
   "name": "python3"
  },
  "language_info": {
   "codemirror_mode": {
    "name": "ipython",
    "version": 3
   },
   "file_extension": ".py",
   "mimetype": "text/x-python",
   "name": "python",
   "nbconvert_exporter": "python",
   "pygments_lexer": "ipython3",
   "version": "3.7.4"
  },
  "name": "lesson4_part2_Decision_trees.ipynb"
 },
 "nbformat": 4,
 "nbformat_minor": 1
}
